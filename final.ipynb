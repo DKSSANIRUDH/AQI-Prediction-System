{
 "cells": [
  {
   "cell_type": "markdown",
   "metadata": {},
   "source": [
    "# Air Quality Index Prediction "
   ]
  },
  {
   "cell_type": "markdown",
   "metadata": {},
   "source": [
    "### 1. Understanding the Data "
   ]
  },
  {
   "cell_type": "markdown",
   "metadata": {},
   "source": [
    "#### 1.1 Importing Libraries and Dataset"
   ]
  },
  {
   "cell_type": "code",
   "execution_count": 1,
   "metadata": {},
   "outputs": [],
   "source": [
    "#loading\n",
    "import pandas as pd\n",
    "import numpy as np\n",
    "import matplotlib.pyplot as plt\n",
    "import seaborn as sns\n",
    "import math\n",
    "import plotly.graph_objs as go\n",
    "from plotly.offline import iplot, init_notebook_mode\n",
    "\n",
    "#preprocessing\n",
    "from sklearn.preprocessing import StandardScaler, LabelEncoder\n",
    "from collections import Counter\n",
    "\n",
    "# ML MODELS\n",
    "from sklearn.model_selection import train_test_split,GridSearchCV\n",
    "from sklearn.metrics import confusion_matrix, classification_report, accuracy_score\n",
    "from xgboost import XGBClassifier,XGBRegressor\n",
    "import xgboost as xgb\n",
    "from sklearn.linear_model import LinearRegression,LogisticRegression,Lasso\n",
    "from sklearn.tree import DecisionTreeRegressor\n",
    "from sklearn.ensemble import RandomForestRegressor,RandomForestClassifier,GradientBoostingRegressor\n",
    "from sklearn.svm import SVC,SVR\n",
    "from sklearn.neighbors import KNeighborsRegressor\n"
   ]
  },
  {
   "cell_type": "markdown",
   "metadata": {},
   "source": [
    "#### 1.2 Getting Description and Schema reading csv file and analyzing the parameters "
   ]
  },
  {
   "cell_type": "code",
   "execution_count": 2,
   "metadata": {},
   "outputs": [],
   "source": [
    "data  = pd.read_csv(\"city_day.csv\")"
   ]
  },
  {
   "cell_type": "code",
   "execution_count": 3,
   "metadata": {},
   "outputs": [
    {
     "name": "stdout",
     "output_type": "stream",
     "text": [
      "<class 'pandas.core.frame.DataFrame'>\n",
      "RangeIndex: 29531 entries, 0 to 29530\n",
      "Data columns (total 16 columns):\n",
      " #   Column      Non-Null Count  Dtype  \n",
      "---  ------      --------------  -----  \n",
      " 0   City        29531 non-null  object \n",
      " 1   Date        29531 non-null  object \n",
      " 2   PM2.5       24933 non-null  float64\n",
      " 3   PM10        18391 non-null  float64\n",
      " 4   NO          25949 non-null  float64\n",
      " 5   NO2         25946 non-null  float64\n",
      " 6   NOx         25346 non-null  float64\n",
      " 7   NH3         19203 non-null  float64\n",
      " 8   CO          27472 non-null  float64\n",
      " 9   SO2         25677 non-null  float64\n",
      " 10  O3          25509 non-null  float64\n",
      " 11  Benzene     23908 non-null  float64\n",
      " 12  Toluene     21490 non-null  float64\n",
      " 13  Xylene      11422 non-null  float64\n",
      " 14  AQI         24850 non-null  float64\n",
      " 15  AQI_Bucket  24850 non-null  object \n",
      "dtypes: float64(13), object(3)\n",
      "memory usage: 3.6+ MB\n"
     ]
    }
   ],
   "source": [
    "data.info()"
   ]
  },
  {
   "cell_type": "markdown",
   "metadata": {},
   "source": [
    "#### 1.3 Statistical Description of Numerical Columns"
   ]
  },
  {
   "cell_type": "code",
   "execution_count": 4,
   "metadata": {},
   "outputs": [
    {
     "data": {
      "text/html": [
       "<div>\n",
       "<style scoped>\n",
       "    .dataframe tbody tr th:only-of-type {\n",
       "        vertical-align: middle;\n",
       "    }\n",
       "\n",
       "    .dataframe tbody tr th {\n",
       "        vertical-align: top;\n",
       "    }\n",
       "\n",
       "    .dataframe thead th {\n",
       "        text-align: right;\n",
       "    }\n",
       "</style>\n",
       "<table border=\"1\" class=\"dataframe\">\n",
       "  <thead>\n",
       "    <tr style=\"text-align: right;\">\n",
       "      <th></th>\n",
       "      <th>PM2.5</th>\n",
       "      <th>PM10</th>\n",
       "      <th>NO</th>\n",
       "      <th>NO2</th>\n",
       "      <th>NOx</th>\n",
       "      <th>NH3</th>\n",
       "      <th>CO</th>\n",
       "      <th>SO2</th>\n",
       "      <th>O3</th>\n",
       "      <th>Benzene</th>\n",
       "      <th>Toluene</th>\n",
       "      <th>Xylene</th>\n",
       "      <th>AQI</th>\n",
       "    </tr>\n",
       "  </thead>\n",
       "  <tbody>\n",
       "    <tr>\n",
       "      <th>count</th>\n",
       "      <td>24933.000000</td>\n",
       "      <td>18391.000000</td>\n",
       "      <td>25949.000000</td>\n",
       "      <td>25946.000000</td>\n",
       "      <td>25346.000000</td>\n",
       "      <td>19203.000000</td>\n",
       "      <td>27472.000000</td>\n",
       "      <td>25677.000000</td>\n",
       "      <td>25509.000000</td>\n",
       "      <td>23908.000000</td>\n",
       "      <td>21490.000000</td>\n",
       "      <td>11422.000000</td>\n",
       "      <td>24850.000000</td>\n",
       "    </tr>\n",
       "    <tr>\n",
       "      <th>mean</th>\n",
       "      <td>67.450578</td>\n",
       "      <td>118.127103</td>\n",
       "      <td>17.574730</td>\n",
       "      <td>28.560659</td>\n",
       "      <td>32.309123</td>\n",
       "      <td>23.483476</td>\n",
       "      <td>2.248598</td>\n",
       "      <td>14.531977</td>\n",
       "      <td>34.491430</td>\n",
       "      <td>3.280840</td>\n",
       "      <td>8.700972</td>\n",
       "      <td>3.070128</td>\n",
       "      <td>166.463581</td>\n",
       "    </tr>\n",
       "    <tr>\n",
       "      <th>std</th>\n",
       "      <td>64.661449</td>\n",
       "      <td>90.605110</td>\n",
       "      <td>22.785846</td>\n",
       "      <td>24.474746</td>\n",
       "      <td>31.646011</td>\n",
       "      <td>25.684275</td>\n",
       "      <td>6.962884</td>\n",
       "      <td>18.133775</td>\n",
       "      <td>21.694928</td>\n",
       "      <td>15.811136</td>\n",
       "      <td>19.969164</td>\n",
       "      <td>6.323247</td>\n",
       "      <td>140.696585</td>\n",
       "    </tr>\n",
       "    <tr>\n",
       "      <th>min</th>\n",
       "      <td>0.040000</td>\n",
       "      <td>0.010000</td>\n",
       "      <td>0.020000</td>\n",
       "      <td>0.010000</td>\n",
       "      <td>0.000000</td>\n",
       "      <td>0.010000</td>\n",
       "      <td>0.000000</td>\n",
       "      <td>0.010000</td>\n",
       "      <td>0.010000</td>\n",
       "      <td>0.000000</td>\n",
       "      <td>0.000000</td>\n",
       "      <td>0.000000</td>\n",
       "      <td>13.000000</td>\n",
       "    </tr>\n",
       "    <tr>\n",
       "      <th>25%</th>\n",
       "      <td>28.820000</td>\n",
       "      <td>56.255000</td>\n",
       "      <td>5.630000</td>\n",
       "      <td>11.750000</td>\n",
       "      <td>12.820000</td>\n",
       "      <td>8.580000</td>\n",
       "      <td>0.510000</td>\n",
       "      <td>5.670000</td>\n",
       "      <td>18.860000</td>\n",
       "      <td>0.120000</td>\n",
       "      <td>0.600000</td>\n",
       "      <td>0.140000</td>\n",
       "      <td>81.000000</td>\n",
       "    </tr>\n",
       "    <tr>\n",
       "      <th>50%</th>\n",
       "      <td>48.570000</td>\n",
       "      <td>95.680000</td>\n",
       "      <td>9.890000</td>\n",
       "      <td>21.690000</td>\n",
       "      <td>23.520000</td>\n",
       "      <td>15.850000</td>\n",
       "      <td>0.890000</td>\n",
       "      <td>9.160000</td>\n",
       "      <td>30.840000</td>\n",
       "      <td>1.070000</td>\n",
       "      <td>2.970000</td>\n",
       "      <td>0.980000</td>\n",
       "      <td>118.000000</td>\n",
       "    </tr>\n",
       "    <tr>\n",
       "      <th>75%</th>\n",
       "      <td>80.590000</td>\n",
       "      <td>149.745000</td>\n",
       "      <td>19.950000</td>\n",
       "      <td>37.620000</td>\n",
       "      <td>40.127500</td>\n",
       "      <td>30.020000</td>\n",
       "      <td>1.450000</td>\n",
       "      <td>15.220000</td>\n",
       "      <td>45.570000</td>\n",
       "      <td>3.080000</td>\n",
       "      <td>9.150000</td>\n",
       "      <td>3.350000</td>\n",
       "      <td>208.000000</td>\n",
       "    </tr>\n",
       "    <tr>\n",
       "      <th>max</th>\n",
       "      <td>949.990000</td>\n",
       "      <td>1000.000000</td>\n",
       "      <td>390.680000</td>\n",
       "      <td>362.210000</td>\n",
       "      <td>467.630000</td>\n",
       "      <td>352.890000</td>\n",
       "      <td>175.810000</td>\n",
       "      <td>193.860000</td>\n",
       "      <td>257.730000</td>\n",
       "      <td>455.030000</td>\n",
       "      <td>454.850000</td>\n",
       "      <td>170.370000</td>\n",
       "      <td>2049.000000</td>\n",
       "    </tr>\n",
       "  </tbody>\n",
       "</table>\n",
       "</div>"
      ],
      "text/plain": [
       "              PM2.5          PM10            NO           NO2           NOx  \\\n",
       "count  24933.000000  18391.000000  25949.000000  25946.000000  25346.000000   \n",
       "mean      67.450578    118.127103     17.574730     28.560659     32.309123   \n",
       "std       64.661449     90.605110     22.785846     24.474746     31.646011   \n",
       "min        0.040000      0.010000      0.020000      0.010000      0.000000   \n",
       "25%       28.820000     56.255000      5.630000     11.750000     12.820000   \n",
       "50%       48.570000     95.680000      9.890000     21.690000     23.520000   \n",
       "75%       80.590000    149.745000     19.950000     37.620000     40.127500   \n",
       "max      949.990000   1000.000000    390.680000    362.210000    467.630000   \n",
       "\n",
       "                NH3            CO           SO2            O3       Benzene  \\\n",
       "count  19203.000000  27472.000000  25677.000000  25509.000000  23908.000000   \n",
       "mean      23.483476      2.248598     14.531977     34.491430      3.280840   \n",
       "std       25.684275      6.962884     18.133775     21.694928     15.811136   \n",
       "min        0.010000      0.000000      0.010000      0.010000      0.000000   \n",
       "25%        8.580000      0.510000      5.670000     18.860000      0.120000   \n",
       "50%       15.850000      0.890000      9.160000     30.840000      1.070000   \n",
       "75%       30.020000      1.450000     15.220000     45.570000      3.080000   \n",
       "max      352.890000    175.810000    193.860000    257.730000    455.030000   \n",
       "\n",
       "            Toluene        Xylene           AQI  \n",
       "count  21490.000000  11422.000000  24850.000000  \n",
       "mean       8.700972      3.070128    166.463581  \n",
       "std       19.969164      6.323247    140.696585  \n",
       "min        0.000000      0.000000     13.000000  \n",
       "25%        0.600000      0.140000     81.000000  \n",
       "50%        2.970000      0.980000    118.000000  \n",
       "75%        9.150000      3.350000    208.000000  \n",
       "max      454.850000    170.370000   2049.000000  "
      ]
     },
     "execution_count": 4,
     "metadata": {},
     "output_type": "execute_result"
    }
   ],
   "source": [
    "data.describe()"
   ]
  },
  {
   "cell_type": "markdown",
   "metadata": {},
   "source": [
    "### 2. Data Cleaning and Pre-Processing Dealing with the NULL values"
   ]
  },
  {
   "cell_type": "code",
   "execution_count": 5,
   "metadata": {},
   "outputs": [
    {
     "data": {
      "text/plain": [
       "City              0\n",
       "Date              0\n",
       "PM2.5          4598\n",
       "PM10          11140\n",
       "NO             3582\n",
       "NO2            3585\n",
       "NOx            4185\n",
       "NH3           10328\n",
       "CO             2059\n",
       "SO2            3854\n",
       "O3             4022\n",
       "Benzene        5623\n",
       "Toluene        8041\n",
       "Xylene        18109\n",
       "AQI            4681\n",
       "AQI_Bucket     4681\n",
       "dtype: int64"
      ]
     },
     "execution_count": 5,
     "metadata": {},
     "output_type": "execute_result"
    }
   ],
   "source": [
    "data.isnull().sum()"
   ]
  },
  {
   "cell_type": "markdown",
   "metadata": {},
   "source": [
    "##### Counting the entries city wise"
   ]
  },
  {
   "cell_type": "code",
   "execution_count": 6,
   "metadata": {},
   "outputs": [
    {
     "data": {
      "text/plain": [
       "City\n",
       "Ahmedabad             2009\n",
       "Delhi                 2009\n",
       "Mumbai                2009\n",
       "Bengaluru             2009\n",
       "Lucknow               2009\n",
       "Chennai               2009\n",
       "Hyderabad             2006\n",
       "Patna                 1858\n",
       "Gurugram              1679\n",
       "Visakhapatnam         1462\n",
       "Amritsar              1221\n",
       "Jorapokhar            1169\n",
       "Jaipur                1114\n",
       "Thiruvananthapuram    1112\n",
       "Amaravati              951\n",
       "Brajrajnagar           938\n",
       "Talcher                925\n",
       "Kolkata                814\n",
       "Guwahati               502\n",
       "Coimbatore             386\n",
       "Shillong               310\n",
       "Chandigarh             304\n",
       "Bhopal                 289\n",
       "Ernakulam              162\n",
       "Kochi                  162\n",
       "Aizawl                 113\n",
       "dtype: int64"
      ]
     },
     "execution_count": 6,
     "metadata": {},
     "output_type": "execute_result"
    }
   ],
   "source": [
    "#Dataset available for each city in descending order\n",
    "#Enteries of data, grouped into cities\n",
    "data.groupby('City').size().sort_values(ascending=False)"
   ]
  },
  {
   "cell_type": "code",
   "execution_count": 7,
   "metadata": {},
   "outputs": [],
   "source": [
    "#Removing the rows with NULL AQI values\n",
    "data = data.dropna(subset=['AQI'])"
   ]
  },
  {
   "cell_type": "code",
   "execution_count": null,
   "metadata": {},
   "outputs": [],
   "source": [
    "cor = data.corr()\n",
    "cor.style.background_gradient(cmap='coolwarm')"
   ]
  },
  {
   "cell_type": "markdown",
   "metadata": {},
   "source": [
    "#### Droping the non requried parameters"
   ]
  },
  {
   "cell_type": "code",
   "execution_count": 9,
   "metadata": {},
   "outputs": [
    {
     "data": {
      "text/html": [
       "<div>\n",
       "<style scoped>\n",
       "    .dataframe tbody tr th:only-of-type {\n",
       "        vertical-align: middle;\n",
       "    }\n",
       "\n",
       "    .dataframe tbody tr th {\n",
       "        vertical-align: top;\n",
       "    }\n",
       "\n",
       "    .dataframe thead th {\n",
       "        text-align: right;\n",
       "    }\n",
       "</style>\n",
       "<table border=\"1\" class=\"dataframe\">\n",
       "  <thead>\n",
       "    <tr style=\"text-align: right;\">\n",
       "      <th></th>\n",
       "      <th>City</th>\n",
       "      <th>PM2.5</th>\n",
       "      <th>PM10</th>\n",
       "      <th>NO</th>\n",
       "      <th>NO2</th>\n",
       "      <th>NOx</th>\n",
       "      <th>NH3</th>\n",
       "      <th>CO</th>\n",
       "      <th>SO2</th>\n",
       "      <th>O3</th>\n",
       "      <th>AQI</th>\n",
       "      <th>AQI_Bucket</th>\n",
       "    </tr>\n",
       "  </thead>\n",
       "  <tbody>\n",
       "    <tr>\n",
       "      <th>28</th>\n",
       "      <td>Ahmedabad</td>\n",
       "      <td>83.13</td>\n",
       "      <td>NaN</td>\n",
       "      <td>6.93</td>\n",
       "      <td>28.71</td>\n",
       "      <td>33.72</td>\n",
       "      <td>NaN</td>\n",
       "      <td>6.93</td>\n",
       "      <td>49.52</td>\n",
       "      <td>59.76</td>\n",
       "      <td>209.0</td>\n",
       "      <td>Poor</td>\n",
       "    </tr>\n",
       "    <tr>\n",
       "      <th>29</th>\n",
       "      <td>Ahmedabad</td>\n",
       "      <td>79.84</td>\n",
       "      <td>NaN</td>\n",
       "      <td>13.85</td>\n",
       "      <td>28.68</td>\n",
       "      <td>41.08</td>\n",
       "      <td>NaN</td>\n",
       "      <td>13.85</td>\n",
       "      <td>48.49</td>\n",
       "      <td>97.07</td>\n",
       "      <td>328.0</td>\n",
       "      <td>Very Poor</td>\n",
       "    </tr>\n",
       "    <tr>\n",
       "      <th>30</th>\n",
       "      <td>Ahmedabad</td>\n",
       "      <td>94.52</td>\n",
       "      <td>NaN</td>\n",
       "      <td>24.39</td>\n",
       "      <td>32.66</td>\n",
       "      <td>52.61</td>\n",
       "      <td>NaN</td>\n",
       "      <td>24.39</td>\n",
       "      <td>67.39</td>\n",
       "      <td>111.33</td>\n",
       "      <td>514.0</td>\n",
       "      <td>Severe</td>\n",
       "    </tr>\n",
       "    <tr>\n",
       "      <th>31</th>\n",
       "      <td>Ahmedabad</td>\n",
       "      <td>135.99</td>\n",
       "      <td>NaN</td>\n",
       "      <td>43.48</td>\n",
       "      <td>42.08</td>\n",
       "      <td>84.57</td>\n",
       "      <td>NaN</td>\n",
       "      <td>43.48</td>\n",
       "      <td>75.23</td>\n",
       "      <td>102.70</td>\n",
       "      <td>782.0</td>\n",
       "      <td>Severe</td>\n",
       "    </tr>\n",
       "    <tr>\n",
       "      <th>32</th>\n",
       "      <td>Ahmedabad</td>\n",
       "      <td>178.33</td>\n",
       "      <td>NaN</td>\n",
       "      <td>54.56</td>\n",
       "      <td>35.31</td>\n",
       "      <td>72.80</td>\n",
       "      <td>NaN</td>\n",
       "      <td>54.56</td>\n",
       "      <td>55.04</td>\n",
       "      <td>107.38</td>\n",
       "      <td>914.0</td>\n",
       "      <td>Severe</td>\n",
       "    </tr>\n",
       "    <tr>\n",
       "      <th>...</th>\n",
       "      <td>...</td>\n",
       "      <td>...</td>\n",
       "      <td>...</td>\n",
       "      <td>...</td>\n",
       "      <td>...</td>\n",
       "      <td>...</td>\n",
       "      <td>...</td>\n",
       "      <td>...</td>\n",
       "      <td>...</td>\n",
       "      <td>...</td>\n",
       "      <td>...</td>\n",
       "      <td>...</td>\n",
       "    </tr>\n",
       "    <tr>\n",
       "      <th>29526</th>\n",
       "      <td>Visakhapatnam</td>\n",
       "      <td>15.02</td>\n",
       "      <td>50.94</td>\n",
       "      <td>7.68</td>\n",
       "      <td>25.06</td>\n",
       "      <td>19.54</td>\n",
       "      <td>12.47</td>\n",
       "      <td>0.47</td>\n",
       "      <td>8.55</td>\n",
       "      <td>23.30</td>\n",
       "      <td>41.0</td>\n",
       "      <td>Good</td>\n",
       "    </tr>\n",
       "    <tr>\n",
       "      <th>29527</th>\n",
       "      <td>Visakhapatnam</td>\n",
       "      <td>24.38</td>\n",
       "      <td>74.09</td>\n",
       "      <td>3.42</td>\n",
       "      <td>26.06</td>\n",
       "      <td>16.53</td>\n",
       "      <td>11.99</td>\n",
       "      <td>0.52</td>\n",
       "      <td>12.72</td>\n",
       "      <td>30.14</td>\n",
       "      <td>70.0</td>\n",
       "      <td>Satisfactory</td>\n",
       "    </tr>\n",
       "    <tr>\n",
       "      <th>29528</th>\n",
       "      <td>Visakhapatnam</td>\n",
       "      <td>22.91</td>\n",
       "      <td>65.73</td>\n",
       "      <td>3.45</td>\n",
       "      <td>29.53</td>\n",
       "      <td>18.33</td>\n",
       "      <td>10.71</td>\n",
       "      <td>0.48</td>\n",
       "      <td>8.42</td>\n",
       "      <td>30.96</td>\n",
       "      <td>68.0</td>\n",
       "      <td>Satisfactory</td>\n",
       "    </tr>\n",
       "    <tr>\n",
       "      <th>29529</th>\n",
       "      <td>Visakhapatnam</td>\n",
       "      <td>16.64</td>\n",
       "      <td>49.97</td>\n",
       "      <td>4.05</td>\n",
       "      <td>29.26</td>\n",
       "      <td>18.80</td>\n",
       "      <td>10.03</td>\n",
       "      <td>0.52</td>\n",
       "      <td>9.84</td>\n",
       "      <td>28.30</td>\n",
       "      <td>54.0</td>\n",
       "      <td>Satisfactory</td>\n",
       "    </tr>\n",
       "    <tr>\n",
       "      <th>29530</th>\n",
       "      <td>Visakhapatnam</td>\n",
       "      <td>15.00</td>\n",
       "      <td>66.00</td>\n",
       "      <td>0.40</td>\n",
       "      <td>26.85</td>\n",
       "      <td>14.05</td>\n",
       "      <td>5.20</td>\n",
       "      <td>0.59</td>\n",
       "      <td>2.10</td>\n",
       "      <td>17.05</td>\n",
       "      <td>50.0</td>\n",
       "      <td>Good</td>\n",
       "    </tr>\n",
       "  </tbody>\n",
       "</table>\n",
       "<p>24850 rows × 12 columns</p>\n",
       "</div>"
      ],
      "text/plain": [
       "                City   PM2.5   PM10     NO    NO2    NOx    NH3     CO    SO2  \\\n",
       "28         Ahmedabad   83.13    NaN   6.93  28.71  33.72    NaN   6.93  49.52   \n",
       "29         Ahmedabad   79.84    NaN  13.85  28.68  41.08    NaN  13.85  48.49   \n",
       "30         Ahmedabad   94.52    NaN  24.39  32.66  52.61    NaN  24.39  67.39   \n",
       "31         Ahmedabad  135.99    NaN  43.48  42.08  84.57    NaN  43.48  75.23   \n",
       "32         Ahmedabad  178.33    NaN  54.56  35.31  72.80    NaN  54.56  55.04   \n",
       "...              ...     ...    ...    ...    ...    ...    ...    ...    ...   \n",
       "29526  Visakhapatnam   15.02  50.94   7.68  25.06  19.54  12.47   0.47   8.55   \n",
       "29527  Visakhapatnam   24.38  74.09   3.42  26.06  16.53  11.99   0.52  12.72   \n",
       "29528  Visakhapatnam   22.91  65.73   3.45  29.53  18.33  10.71   0.48   8.42   \n",
       "29529  Visakhapatnam   16.64  49.97   4.05  29.26  18.80  10.03   0.52   9.84   \n",
       "29530  Visakhapatnam   15.00  66.00   0.40  26.85  14.05   5.20   0.59   2.10   \n",
       "\n",
       "           O3    AQI    AQI_Bucket  \n",
       "28      59.76  209.0          Poor  \n",
       "29      97.07  328.0     Very Poor  \n",
       "30     111.33  514.0        Severe  \n",
       "31     102.70  782.0        Severe  \n",
       "32     107.38  914.0        Severe  \n",
       "...       ...    ...           ...  \n",
       "29526   23.30   41.0          Good  \n",
       "29527   30.14   70.0  Satisfactory  \n",
       "29528   30.96   68.0  Satisfactory  \n",
       "29529   28.30   54.0  Satisfactory  \n",
       "29530   17.05   50.0          Good  \n",
       "\n",
       "[24850 rows x 12 columns]"
      ]
     },
     "execution_count": 9,
     "metadata": {},
     "output_type": "execute_result"
    }
   ],
   "source": [
    "data.drop(['Benzene','Toluene','Xylene','Date'],axis='columns',inplace=True)\n",
    "data\n"
   ]
  },
  {
   "cell_type": "markdown",
   "metadata": {},
   "source": [
    "##### Analyzing the different types of Air-Quality"
   ]
  },
  {
   "cell_type": "code",
   "execution_count": 10,
   "metadata": {},
   "outputs": [],
   "source": [
    "df=data.copy()\n"
   ]
  },
  {
   "cell_type": "code",
   "execution_count": 11,
   "metadata": {},
   "outputs": [
    {
     "data": {
      "text/plain": [
       "array(['Poor', 'Very Poor', 'Severe', 'Moderate', 'Satisfactory', 'Good'],\n",
       "      dtype=object)"
      ]
     },
     "execution_count": 11,
     "metadata": {},
     "output_type": "execute_result"
    }
   ],
   "source": [
    "df['AQI_Bucket'].unique() # getting the unique values of AOI Bucket."
   ]
  },
  {
   "cell_type": "markdown",
   "metadata": {},
   "source": [
    "##### Categorizing the Air-Quality with respect to the AQI index of the air and checking for NULL values"
   ]
  },
  {
   "cell_type": "code",
   "execution_count": 12,
   "metadata": {},
   "outputs": [
    {
     "data": {
      "text/plain": [
       "0"
      ]
     },
     "execution_count": 12,
     "metadata": {},
     "output_type": "execute_result"
    }
   ],
   "source": [
    "# checking the Null values for AQI of 0 - 50  range.\n",
    "good=df[(df.AQI >0)&(df.AQI <=50)]\n",
    "good[\"AQI_Bucket\"].isnull().sum()"
   ]
  },
  {
   "cell_type": "code",
   "execution_count": 13,
   "metadata": {},
   "outputs": [
    {
     "data": {
      "text/plain": [
       "0"
      ]
     },
     "execution_count": 13,
     "metadata": {},
     "output_type": "execute_result"
    }
   ],
   "source": [
    "# checking the Null values for AQI of 51 - 100  range.\n",
    "Satisfactory=df[(df.AQI >50)&(df.AQI <=100)]\n",
    "Satisfactory[\"AQI_Bucket\"].isnull().sum()"
   ]
  },
  {
   "cell_type": "code",
   "execution_count": 14,
   "metadata": {},
   "outputs": [
    {
     "data": {
      "text/plain": [
       "0"
      ]
     },
     "execution_count": 14,
     "metadata": {},
     "output_type": "execute_result"
    }
   ],
   "source": [
    "# checking the Null values for AQI of 101 - 200  range.\n",
    "Moderate=df[(df.AQI >100)&(df.AQI <=200)]\n",
    "Moderate[\"AQI_Bucket\"].isnull().sum()"
   ]
  },
  {
   "cell_type": "code",
   "execution_count": 15,
   "metadata": {},
   "outputs": [
    {
     "data": {
      "text/plain": [
       "0"
      ]
     },
     "execution_count": 15,
     "metadata": {},
     "output_type": "execute_result"
    }
   ],
   "source": [
    "# checking the Null values for AQI of 201 - 300  range.\n",
    "poor=df[(df.AQI >200)&(df.AQI <=300)]\n",
    "poor[\"AQI_Bucket\"].isnull().sum()"
   ]
  },
  {
   "cell_type": "code",
   "execution_count": 16,
   "metadata": {},
   "outputs": [
    {
     "data": {
      "text/plain": [
       "0"
      ]
     },
     "execution_count": 16,
     "metadata": {},
     "output_type": "execute_result"
    }
   ],
   "source": [
    "# checking the Null values for AQI of 301 - 400  range.\n",
    "vpoor=df[(df.AQI >300)&(df.AQI <=400)]\n",
    "vpoor[\"AQI_Bucket\"].isnull().sum()"
   ]
  },
  {
   "cell_type": "code",
   "execution_count": 17,
   "metadata": {},
   "outputs": [
    {
     "data": {
      "text/plain": [
       "0"
      ]
     },
     "execution_count": 17,
     "metadata": {},
     "output_type": "execute_result"
    }
   ],
   "source": [
    "# checking the Null values for AQI of above 400 range.\n",
    "sever=df[(df.AQI >400)]\n",
    "sever[\"AQI_Bucket\"].isnull().sum()"
   ]
  },
  {
   "cell_type": "markdown",
   "metadata": {},
   "source": [
    "#### Checking the null values."
   ]
  },
  {
   "cell_type": "code",
   "execution_count": 18,
   "metadata": {},
   "outputs": [
    {
     "data": {
      "text/plain": [
       "City             0\n",
       "PM2.5          678\n",
       "PM10          7086\n",
       "NO             387\n",
       "NO2            391\n",
       "NOx           1857\n",
       "NH3           6536\n",
       "CO             445\n",
       "SO2            605\n",
       "O3             807\n",
       "AQI              0\n",
       "AQI_Bucket       0\n",
       "dtype: int64"
      ]
     },
     "execution_count": 18,
     "metadata": {},
     "output_type": "execute_result"
    }
   ],
   "source": [
    "df.isnull().sum() \n"
   ]
  },
  {
   "cell_type": "markdown",
   "metadata": {},
   "source": [
    "##### Analyzing the data with respect to the pollutant PM2.5 values"
   ]
  },
  {
   "cell_type": "code",
   "execution_count": 19,
   "metadata": {},
   "outputs": [
    {
     "data": {
      "text/plain": [
       "City\n",
       "Ahmedabad              68.0\n",
       "Aizawl                 17.0\n",
       "Amaravati              38.0\n",
       "Amritsar               55.0\n",
       "Bengaluru              36.0\n",
       "Bhopal                 50.0\n",
       "Brajrajnagar           64.0\n",
       "Chandigarh             41.0\n",
       "Chennai                50.0\n",
       "Coimbatore             29.0\n",
       "Delhi                 118.0\n",
       "Ernakulam              25.0\n",
       "Gurugram              116.0\n",
       "Guwahati               61.0\n",
       "Hyderabad              47.0\n",
       "Jaipur                 55.0\n",
       "Jorapokhar             64.0\n",
       "Kochi                  32.0\n",
       "Kolkata                65.0\n",
       "Lucknow               110.0\n",
       "Mumbai                 35.0\n",
       "Patna                 125.0\n",
       "Shillong               25.0\n",
       "Talcher                62.0\n",
       "Thiruvananthapuram     28.0\n",
       "Visakhapatnam          48.0\n",
       "Name: PM2.5, dtype: float64"
      ]
     },
     "execution_count": 19,
     "metadata": {},
     "output_type": "execute_result"
    }
   ],
   "source": [
    "# Arranging city wise PM 2.5 levels mean values\n",
    "pm2_51=df.groupby(\"City\")[\"PM2.5\"].mean().round()\n",
    "pm2_51"
   ]
  },
  {
   "cell_type": "code",
   "execution_count": 20,
   "metadata": {},
   "outputs": [
    {
     "data": {
      "text/plain": [
       "City\n",
       "Patna           125.0\n",
       "Delhi           118.0\n",
       "Gurugram        116.0\n",
       "Lucknow         110.0\n",
       "Ahmedabad        68.0\n",
       "Kolkata          65.0\n",
       "Brajrajnagar     64.0\n",
       "Jorapokhar       64.0\n",
       "Talcher          62.0\n",
       "Guwahati         61.0\n",
       "Name: PM2.5, dtype: float64"
      ]
     },
     "execution_count": 20,
     "metadata": {},
     "output_type": "execute_result"
    }
   ],
   "source": [
    "# Selecting the top 10 cities having high average PM 2.5 level.\n",
    "pm2_51.sort_values(ascending=False).head(10)"
   ]
  },
  {
   "cell_type": "markdown",
   "metadata": {},
   "source": [
    "### Analyzing the missing values City wise"
   ]
  },
  {
   "cell_type": "markdown",
   "metadata": {},
   "source": [
    "##### Checking for missing values for each parameter for  different cities"
   ]
  },
  {
   "cell_type": "code",
   "execution_count": 21,
   "metadata": {},
   "outputs": [
    {
     "name": "stdout",
     "output_type": "stream",
     "text": [
      "Dataframe of missing values \n"
     ]
    },
    {
     "data": {
      "text/html": [
       "<div>\n",
       "<style scoped>\n",
       "    .dataframe tbody tr th:only-of-type {\n",
       "        vertical-align: middle;\n",
       "    }\n",
       "\n",
       "    .dataframe tbody tr th {\n",
       "        vertical-align: top;\n",
       "    }\n",
       "\n",
       "    .dataframe thead th {\n",
       "        text-align: right;\n",
       "    }\n",
       "</style>\n",
       "<table border=\"1\" class=\"dataframe\">\n",
       "  <thead>\n",
       "    <tr style=\"text-align: right;\">\n",
       "      <th></th>\n",
       "      <th>City</th>\n",
       "      <th>Column</th>\n",
       "      <th>Missing Values</th>\n",
       "      <th>Missing Values Percentage</th>\n",
       "    </tr>\n",
       "  </thead>\n",
       "  <tbody>\n",
       "    <tr>\n",
       "      <th>0</th>\n",
       "      <td>Ahmedabad</td>\n",
       "      <td>City</td>\n",
       "      <td>0</td>\n",
       "      <td>0.000000</td>\n",
       "    </tr>\n",
       "    <tr>\n",
       "      <th>1</th>\n",
       "      <td>Ahmedabad</td>\n",
       "      <td>PM2.5</td>\n",
       "      <td>2</td>\n",
       "      <td>0.149925</td>\n",
       "    </tr>\n",
       "    <tr>\n",
       "      <th>2</th>\n",
       "      <td>Ahmedabad</td>\n",
       "      <td>PM10</td>\n",
       "      <td>937</td>\n",
       "      <td>70.239880</td>\n",
       "    </tr>\n",
       "    <tr>\n",
       "      <th>3</th>\n",
       "      <td>Ahmedabad</td>\n",
       "      <td>NO</td>\n",
       "      <td>7</td>\n",
       "      <td>0.524738</td>\n",
       "    </tr>\n",
       "    <tr>\n",
       "      <th>4</th>\n",
       "      <td>Ahmedabad</td>\n",
       "      <td>NO2</td>\n",
       "      <td>7</td>\n",
       "      <td>0.524738</td>\n",
       "    </tr>\n",
       "    <tr>\n",
       "      <th>...</th>\n",
       "      <td>...</td>\n",
       "      <td>...</td>\n",
       "      <td>...</td>\n",
       "      <td>...</td>\n",
       "    </tr>\n",
       "    <tr>\n",
       "      <th>307</th>\n",
       "      <td>Visakhapatnam</td>\n",
       "      <td>CO</td>\n",
       "      <td>6</td>\n",
       "      <td>0.512383</td>\n",
       "    </tr>\n",
       "    <tr>\n",
       "      <th>308</th>\n",
       "      <td>Visakhapatnam</td>\n",
       "      <td>SO2</td>\n",
       "      <td>7</td>\n",
       "      <td>0.597780</td>\n",
       "    </tr>\n",
       "    <tr>\n",
       "      <th>309</th>\n",
       "      <td>Visakhapatnam</td>\n",
       "      <td>O3</td>\n",
       "      <td>5</td>\n",
       "      <td>0.426985</td>\n",
       "    </tr>\n",
       "    <tr>\n",
       "      <th>310</th>\n",
       "      <td>Visakhapatnam</td>\n",
       "      <td>AQI</td>\n",
       "      <td>0</td>\n",
       "      <td>0.000000</td>\n",
       "    </tr>\n",
       "    <tr>\n",
       "      <th>311</th>\n",
       "      <td>Visakhapatnam</td>\n",
       "      <td>AQI_Bucket</td>\n",
       "      <td>0</td>\n",
       "      <td>0.000000</td>\n",
       "    </tr>\n",
       "  </tbody>\n",
       "</table>\n",
       "<p>312 rows × 4 columns</p>\n",
       "</div>"
      ],
      "text/plain": [
       "              City      Column  Missing Values  Missing Values Percentage\n",
       "0        Ahmedabad        City               0                   0.000000\n",
       "1        Ahmedabad       PM2.5               2                   0.149925\n",
       "2        Ahmedabad        PM10             937                  70.239880\n",
       "3        Ahmedabad          NO               7                   0.524738\n",
       "4        Ahmedabad         NO2               7                   0.524738\n",
       "..             ...         ...             ...                        ...\n",
       "307  Visakhapatnam          CO               6                   0.512383\n",
       "308  Visakhapatnam         SO2               7                   0.597780\n",
       "309  Visakhapatnam          O3               5                   0.426985\n",
       "310  Visakhapatnam         AQI               0                   0.000000\n",
       "311  Visakhapatnam  AQI_Bucket               0                   0.000000\n",
       "\n",
       "[312 rows x 4 columns]"
      ]
     },
     "execution_count": 21,
     "metadata": {},
     "output_type": "execute_result"
    }
   ],
   "source": [
    "#Determining the percentage of missing values of columns with respect to cities.\n",
    "\n",
    "#missing values of each column with respective to that city\n",
    "group_city  = data.groupby(\"City\")\n",
    "\n",
    "#Empty list to store dataframe for each city\n",
    "dfs = [ ]\n",
    "\n",
    "for city, subset in group_city:\n",
    "    missing_values_count = subset.isnull().sum()\n",
    "    total_rows = subset.shape[0]\n",
    "    missing_values_percentage = (missing_values_count / total_rows) * 100\n",
    "    \n",
    "    #Dataframe for current city\n",
    "    city_missing_values_df = pd.DataFrame({\n",
    "        'City': city,\n",
    "        'Column': missing_values_count.index,\n",
    "        'Missing Values': missing_values_count.values,\n",
    "        'Missing Values Percentage': missing_values_percentage.values\n",
    "    })\n",
    "    \n",
    "    \n",
    "    dfs.append(city_missing_values_df)\n",
    "    \n",
    "missing_values_df = pd.concat(dfs, ignore_index=True)\n",
    "        \n",
    "print('Dataframe of missing values ')\n",
    "missing_values_df"
   ]
  },
  {
   "cell_type": "code",
   "execution_count": null,
   "metadata": {},
   "outputs": [],
   "source": []
  },
  {
   "cell_type": "markdown",
   "metadata": {},
   "source": [
    "##### Plotting the graph of missing values in percentage statistics"
   ]
  },
  {
   "cell_type": "code",
   "execution_count": 22,
   "metadata": {},
   "outputs": [
    {
     "data": {
      "image/png": "[encoded data removed]",
      "text/plain": [
       "<Figure size 1200x1200 with 9 Axes>"
      ]
     },
     "metadata": {},
     "output_type": "display_data"
    }
   ],
   "source": [
    "#bar plot to analyse the percentage of missing values with respect to each city\n",
    "\n",
    "\n",
    "import matplotlib.pyplot as plt\n",
    "\n",
    "columns = data.columns[1:10]\n",
    "num_columns = len(columns)\n",
    "num_rows = (num_columns + 2) // 3  # Number of rows in the grid layout\n",
    "num_cols = 3  # Number of columns in the grid layout\n",
    "\n",
    "fig, axs = plt.subplots(num_rows, num_cols, figsize=(12, 4*num_rows))\n",
    "\n",
    "for i, column in enumerate(columns):\n",
    "    row = i // num_cols\n",
    "    col = i % num_cols\n",
    "    ax = axs[row, col]\n",
    "    city_names = missing_values_df.loc[missing_values_df['Column'] == column, 'City']\n",
    "    missing_percentage = missing_values_df.loc[missing_values_df['Column'] == column, 'Missing Values Percentage']\n",
    "    ax.bar(city_names, missing_percentage, color='skyblue')\n",
    "    ax.set_title(f\"Missing Values Percentage - {column}\", fontsize=10)\n",
    "    ax.set_xlabel(\"City\", fontsize=8)\n",
    "    ax.set_ylabel(\"Percentage\", fontsize=8)\n",
    "    ax.set_xticks(range(len(city_names)))\n",
    "    ax.set_xticklabels(city_names, rotation=90, fontsize=6)\n",
    "    ax.grid(axis='y')\n",
    "    ax.tick_params(axis='both', labelsize=6)\n",
    "\n",
    "# Remove empty subplots\n",
    "if num_columns % num_cols != 0:\n",
    "    for i in range(num_columns % num_cols, num_cols):\n",
    "        fig.delaxes(axs[-1, i])\n",
    "\n",
    "plt.tight_layout()\n",
    "plt.show()\n"
   ]
  },
  {
   "cell_type": "markdown",
   "metadata": {},
   "source": [
    "##### Filling the missing values"
   ]
  },
  {
   "cell_type": "markdown",
   "metadata": {},
   "source": [
    "1. Create bins of each column for each city\n",
    "2. Plot the histogram - which shows the range of values which occured maximum time in a column for a particular city.(also it shows the skewness)\n",
    "3. Observe the highest occurred range of values for a column of a particular city.\n",
    "4. Finding the mean of that range.\n",
    "5. Filling the missing values with the mean of range of values which occurred maximum times for a column."
   ]
  },
  {
   "cell_type": "code",
   "execution_count": null,
   "metadata": {},
   "outputs": [],
   "source": [
    "import numpy as np\n",
    "import matplotlib.pyplot as plt\n",
    "from scipy.stats import skew\n",
    "\n",
    "# Create a dictionary to store the mean of the highest frequency bin for each column and city\n",
    "mean_per_bin = {}\n",
    "\n",
    "# Group the data by 'City' column\n",
    "grouped_data = data.groupby('City')\n",
    "\n",
    "# Set the number of columns for the subplot arrangement\n",
    "num_columns = 3\n",
    "\n",
    "# Iterate over each city\n",
    "for city, subset in grouped_data:\n",
    "    if city == \"Ahmedabad\":\n",
    "        # Get the number of columns for this city\n",
    "        num_rows = np.ceil(len(subset.columns[2:-1]) / num_columns).astype(int)\n",
    "\n",
    "        # Create subplots for the city\n",
    "        fig, axs = plt.subplots(num_rows, num_columns, figsize=(15, 5 * num_rows))\n",
    "        axs = axs.flatten()\n",
    "\n",
    "        # Iterate over the columns to fill\n",
    "        for i, column in enumerate(subset.columns[2:-1]):  # Exclude 'City', 'Date', and 'AQI_Bucket' columns\n",
    "            ax = axs[i]\n",
    "\n",
    "            # Calculate the number of bins\n",
    "            num_bins = int(np.sqrt(len(subset)))\n",
    "\n",
    "            # Calculate the subplot index\n",
    "            subplot_index = i % (num_columns * num_rows) + 1\n",
    "\n",
    "            # Plot the histogram and calculate the skewness\n",
    "            ax.hist(subset[column].dropna(), bins=num_bins, alpha=0.5)\n",
    "            ax.set_title(f\"{column} - {city}\")\n",
    "            ax.set_xlabel(column)\n",
    "            ax.set_ylabel(\"Frequency\")\n",
    "\n",
    "            try:\n",
    "                # Calculate skewness\n",
    "                column_data = subset[column]\n",
    "                column_data_cleaned = column_data.dropna()\n",
    "                column_skewness = skew(column_data_cleaned)\n",
    "            except (RuntimeWarning, ZeroDivisionError):\n",
    "                column_skewness = float('nan')\n",
    "\n",
    "            # Add text indicating skewness\n",
    "            skewness_text = \"Skewed (right-tailed)\" if column_skewness > 0 else \"Skewed (left-tailed)\" if column_skewness < 0 else \"Unskewed\"\n",
    "            ax.text(0.5, 0.9, f\"Skewness: {column_skewness:.2f}\\nDistribution: {skewness_text}\",\n",
    "                    transform=ax.transAxes, fontsize=10, ha='center')\n",
    "\n",
    "            # Calculate the bin with the highest frequency\n",
    "            counts, bins, _ = ax.hist(column_data_cleaned, bins=num_bins, alpha=0.5)\n",
    "            max_bin = bins[np.argmax(counts)]\n",
    "\n",
    "            # Calculate the mean of the highest frequency bin\n",
    "            bin_mean = column_data[(column_data >= max_bin) & (column_data < max_bin + (bins[1] - bins[0]))].mean()\n",
    "\n",
    "            # Store the mean in the dictionary\n",
    "            mean_per_bin[(city, column)] = bin_mean\n",
    "\n",
    "        # Remove empty subplots\n",
    "        if len(subset.columns[2:-1]) < num_columns * num_rows:\n",
    "            for i in range(len(subset.columns[2:-1]), num_columns * num_rows):\n",
    "                fig.delaxes(axs[i])\n",
    "\n",
    "        # Adjust spacing between subplots\n",
    "        fig.tight_layout()\n",
    "\n",
    "# Fill the missing values with the mean of the highest frequency bin for each column and city\n",
    "for (city, column), mean in mean_per_bin.items():\n",
    "    data.loc[(data['City'] == city) & (data[column].isna()), column] = mean\n",
    "\n",
    "plt.show()\n"
   ]
  },
  {
   "cell_type": "markdown",
   "metadata": {},
   "source": [
    " It fills the remaining miising values with the overall mean of that column\n",
    "(There were left some missing values beacause for some city there is no values present for a column)"
   ]
  },
  {
   "cell_type": "code",
   "execution_count": 24,
   "metadata": {},
   "outputs": [
    {
     "data": {
      "text/plain": [
       "City             0\n",
       "PM2.5          678\n",
       "PM10          6149\n",
       "NO             380\n",
       "NO2            384\n",
       "NOx           1855\n",
       "NH3           6536\n",
       "CO             438\n",
       "SO2            565\n",
       "O3             722\n",
       "AQI              0\n",
       "AQI_Bucket       0\n",
       "dtype: int64"
      ]
     },
     "execution_count": 24,
     "metadata": {},
     "output_type": "execute_result"
    }
   ],
   "source": [
    "data.isnull().sum()"
   ]
  },
  {
   "cell_type": "code",
   "execution_count": 25,
   "metadata": {},
   "outputs": [],
   "source": [
    "# Calculate the overall mean of each numeric column\n",
    "column_means = data.select_dtypes(include='number').mean()\n",
    "\n",
    "# Fill the missing values in each numeric column with the corresponding column mean\n",
    "data_filled = data.select_dtypes(include='number').fillna(column_means)\n",
    "\n",
    "# Combine the filled numeric columns with the non-numeric columns\n",
    "data = pd.concat([data_filled, data.select_dtypes(exclude='number')], axis=1)\n",
    "\n",
    "# Export the updated dataset to Excel\n",
    "#data_filled.to_excel('data_filled_with_mean.xlsx', index=False)"
   ]
  },
  {
   "cell_type": "code",
   "execution_count": 26,
   "metadata": {},
   "outputs": [
    {
     "data": {
      "text/plain": [
       "PM2.5         0\n",
       "PM10          0\n",
       "NO            0\n",
       "NO2           0\n",
       "NOx           0\n",
       "NH3           0\n",
       "CO            0\n",
       "SO2           0\n",
       "O3            0\n",
       "AQI           0\n",
       "City          0\n",
       "AQI_Bucket    0\n",
       "dtype: int64"
      ]
     },
     "execution_count": 26,
     "metadata": {},
     "output_type": "execute_result"
    }
   ],
   "source": [
    "data.isnull().sum()"
   ]
  },
  {
   "cell_type": "code",
   "execution_count": 27,
   "metadata": {},
   "outputs": [
    {
     "data": {
      "text/html": [
       "<div>\n",
       "<style scoped>\n",
       "    .dataframe tbody tr th:only-of-type {\n",
       "        vertical-align: middle;\n",
       "    }\n",
       "\n",
       "    .dataframe tbody tr th {\n",
       "        vertical-align: top;\n",
       "    }\n",
       "\n",
       "    .dataframe thead th {\n",
       "        text-align: right;\n",
       "    }\n",
       "</style>\n",
       "<table border=\"1\" class=\"dataframe\">\n",
       "  <thead>\n",
       "    <tr style=\"text-align: right;\">\n",
       "      <th></th>\n",
       "      <th>PM2.5</th>\n",
       "      <th>PM10</th>\n",
       "      <th>NO</th>\n",
       "      <th>NO2</th>\n",
       "      <th>NOx</th>\n",
       "      <th>NH3</th>\n",
       "      <th>CO</th>\n",
       "      <th>SO2</th>\n",
       "      <th>O3</th>\n",
       "      <th>AQI</th>\n",
       "      <th>City</th>\n",
       "      <th>AQI_Bucket</th>\n",
       "    </tr>\n",
       "  </thead>\n",
       "  <tbody>\n",
       "    <tr>\n",
       "      <th>28</th>\n",
       "      <td>83.13</td>\n",
       "      <td>88.179286</td>\n",
       "      <td>6.93</td>\n",
       "      <td>28.71</td>\n",
       "      <td>33.72</td>\n",
       "      <td>23.848366</td>\n",
       "      <td>6.93</td>\n",
       "      <td>49.52</td>\n",
       "      <td>59.76</td>\n",
       "      <td>209.0</td>\n",
       "      <td>Ahmedabad</td>\n",
       "      <td>Poor</td>\n",
       "    </tr>\n",
       "    <tr>\n",
       "      <th>29</th>\n",
       "      <td>79.84</td>\n",
       "      <td>88.179286</td>\n",
       "      <td>13.85</td>\n",
       "      <td>28.68</td>\n",
       "      <td>41.08</td>\n",
       "      <td>23.848366</td>\n",
       "      <td>13.85</td>\n",
       "      <td>48.49</td>\n",
       "      <td>97.07</td>\n",
       "      <td>328.0</td>\n",
       "      <td>Ahmedabad</td>\n",
       "      <td>Very Poor</td>\n",
       "    </tr>\n",
       "    <tr>\n",
       "      <th>30</th>\n",
       "      <td>94.52</td>\n",
       "      <td>88.179286</td>\n",
       "      <td>24.39</td>\n",
       "      <td>32.66</td>\n",
       "      <td>52.61</td>\n",
       "      <td>23.848366</td>\n",
       "      <td>24.39</td>\n",
       "      <td>67.39</td>\n",
       "      <td>111.33</td>\n",
       "      <td>514.0</td>\n",
       "      <td>Ahmedabad</td>\n",
       "      <td>Severe</td>\n",
       "    </tr>\n",
       "    <tr>\n",
       "      <th>31</th>\n",
       "      <td>135.99</td>\n",
       "      <td>88.179286</td>\n",
       "      <td>43.48</td>\n",
       "      <td>42.08</td>\n",
       "      <td>84.57</td>\n",
       "      <td>23.848366</td>\n",
       "      <td>43.48</td>\n",
       "      <td>75.23</td>\n",
       "      <td>102.70</td>\n",
       "      <td>782.0</td>\n",
       "      <td>Ahmedabad</td>\n",
       "      <td>Severe</td>\n",
       "    </tr>\n",
       "    <tr>\n",
       "      <th>32</th>\n",
       "      <td>178.33</td>\n",
       "      <td>88.179286</td>\n",
       "      <td>54.56</td>\n",
       "      <td>35.31</td>\n",
       "      <td>72.80</td>\n",
       "      <td>23.848366</td>\n",
       "      <td>54.56</td>\n",
       "      <td>55.04</td>\n",
       "      <td>107.38</td>\n",
       "      <td>914.0</td>\n",
       "      <td>Ahmedabad</td>\n",
       "      <td>Severe</td>\n",
       "    </tr>\n",
       "    <tr>\n",
       "      <th>...</th>\n",
       "      <td>...</td>\n",
       "      <td>...</td>\n",
       "      <td>...</td>\n",
       "      <td>...</td>\n",
       "      <td>...</td>\n",
       "      <td>...</td>\n",
       "      <td>...</td>\n",
       "      <td>...</td>\n",
       "      <td>...</td>\n",
       "      <td>...</td>\n",
       "      <td>...</td>\n",
       "      <td>...</td>\n",
       "    </tr>\n",
       "    <tr>\n",
       "      <th>29526</th>\n",
       "      <td>15.02</td>\n",
       "      <td>50.940000</td>\n",
       "      <td>7.68</td>\n",
       "      <td>25.06</td>\n",
       "      <td>19.54</td>\n",
       "      <td>12.470000</td>\n",
       "      <td>0.47</td>\n",
       "      <td>8.55</td>\n",
       "      <td>23.30</td>\n",
       "      <td>41.0</td>\n",
       "      <td>Visakhapatnam</td>\n",
       "      <td>Good</td>\n",
       "    </tr>\n",
       "    <tr>\n",
       "      <th>29527</th>\n",
       "      <td>24.38</td>\n",
       "      <td>74.090000</td>\n",
       "      <td>3.42</td>\n",
       "      <td>26.06</td>\n",
       "      <td>16.53</td>\n",
       "      <td>11.990000</td>\n",
       "      <td>0.52</td>\n",
       "      <td>12.72</td>\n",
       "      <td>30.14</td>\n",
       "      <td>70.0</td>\n",
       "      <td>Visakhapatnam</td>\n",
       "      <td>Satisfactory</td>\n",
       "    </tr>\n",
       "    <tr>\n",
       "      <th>29528</th>\n",
       "      <td>22.91</td>\n",
       "      <td>65.730000</td>\n",
       "      <td>3.45</td>\n",
       "      <td>29.53</td>\n",
       "      <td>18.33</td>\n",
       "      <td>10.710000</td>\n",
       "      <td>0.48</td>\n",
       "      <td>8.42</td>\n",
       "      <td>30.96</td>\n",
       "      <td>68.0</td>\n",
       "      <td>Visakhapatnam</td>\n",
       "      <td>Satisfactory</td>\n",
       "    </tr>\n",
       "    <tr>\n",
       "      <th>29529</th>\n",
       "      <td>16.64</td>\n",
       "      <td>49.970000</td>\n",
       "      <td>4.05</td>\n",
       "      <td>29.26</td>\n",
       "      <td>18.80</td>\n",
       "      <td>10.030000</td>\n",
       "      <td>0.52</td>\n",
       "      <td>9.84</td>\n",
       "      <td>28.30</td>\n",
       "      <td>54.0</td>\n",
       "      <td>Visakhapatnam</td>\n",
       "      <td>Satisfactory</td>\n",
       "    </tr>\n",
       "    <tr>\n",
       "      <th>29530</th>\n",
       "      <td>15.00</td>\n",
       "      <td>66.000000</td>\n",
       "      <td>0.40</td>\n",
       "      <td>26.85</td>\n",
       "      <td>14.05</td>\n",
       "      <td>5.200000</td>\n",
       "      <td>0.59</td>\n",
       "      <td>2.10</td>\n",
       "      <td>17.05</td>\n",
       "      <td>50.0</td>\n",
       "      <td>Visakhapatnam</td>\n",
       "      <td>Good</td>\n",
       "    </tr>\n",
       "  </tbody>\n",
       "</table>\n",
       "<p>24850 rows × 12 columns</p>\n",
       "</div>"
      ],
      "text/plain": [
       "        PM2.5       PM10     NO    NO2    NOx        NH3     CO    SO2  \\\n",
       "28      83.13  88.179286   6.93  28.71  33.72  23.848366   6.93  49.52   \n",
       "29      79.84  88.179286  13.85  28.68  41.08  23.848366  13.85  48.49   \n",
       "30      94.52  88.179286  24.39  32.66  52.61  23.848366  24.39  67.39   \n",
       "31     135.99  88.179286  43.48  42.08  84.57  23.848366  43.48  75.23   \n",
       "32     178.33  88.179286  54.56  35.31  72.80  23.848366  54.56  55.04   \n",
       "...       ...        ...    ...    ...    ...        ...    ...    ...   \n",
       "29526   15.02  50.940000   7.68  25.06  19.54  12.470000   0.47   8.55   \n",
       "29527   24.38  74.090000   3.42  26.06  16.53  11.990000   0.52  12.72   \n",
       "29528   22.91  65.730000   3.45  29.53  18.33  10.710000   0.48   8.42   \n",
       "29529   16.64  49.970000   4.05  29.26  18.80  10.030000   0.52   9.84   \n",
       "29530   15.00  66.000000   0.40  26.85  14.05   5.200000   0.59   2.10   \n",
       "\n",
       "           O3    AQI           City    AQI_Bucket  \n",
       "28      59.76  209.0      Ahmedabad          Poor  \n",
       "29      97.07  328.0      Ahmedabad     Very Poor  \n",
       "30     111.33  514.0      Ahmedabad        Severe  \n",
       "31     102.70  782.0      Ahmedabad        Severe  \n",
       "32     107.38  914.0      Ahmedabad        Severe  \n",
       "...       ...    ...            ...           ...  \n",
       "29526   23.30   41.0  Visakhapatnam          Good  \n",
       "29527   30.14   70.0  Visakhapatnam  Satisfactory  \n",
       "29528   30.96   68.0  Visakhapatnam  Satisfactory  \n",
       "29529   28.30   54.0  Visakhapatnam  Satisfactory  \n",
       "29530   17.05   50.0  Visakhapatnam          Good  \n",
       "\n",
       "[24850 rows x 12 columns]"
      ]
     },
     "execution_count": 27,
     "metadata": {},
     "output_type": "execute_result"
    }
   ],
   "source": [
    "\n",
    "df=data.copy()\n",
    "df"
   ]
  },
  {
   "cell_type": "markdown",
   "metadata": {},
   "source": [
    "##### Example of analyzing the pollutant values of cities"
   ]
  },
  {
   "cell_type": "code",
   "execution_count": 28,
   "metadata": {},
   "outputs": [
    {
     "data": {
      "text/plain": [
       "<AxesSubplot: title={'center': 'PM 2.5 Levels in different cities'}, xlabel='Level', ylabel='City'>"
      ]
     },
     "execution_count": 28,
     "metadata": {},
     "output_type": "execute_result"
    },
    {
     "data": {
      "image/png": "[encoded data removed]",
      "text/plain": [
       "<Figure size 700x700 with 1 Axes>"
      ]
     },
     "metadata": {},
     "output_type": "display_data"
    }
   ],
   "source": [
    "# Plotting the horizontal bar plot for cities against PM 2.5 level value.\n",
    "pm2_51.sort_values(ascending=False).head(10) .plot(figsize=(7,7),kind=\"barh\",title=\"PM 2.5 Levels in different cities\", xlabel=\"Level\", ylabel=\"City\",grid=True)"
   ]
  },
  {
   "cell_type": "markdown",
   "metadata": {},
   "source": [
    "### Bar graph of average AQI values of each city"
   ]
  },
  {
   "cell_type": "code",
   "execution_count": 29,
   "metadata": {},
   "outputs": [
    {
     "data": {
      "text/html": [
       "<div>\n",
       "<style scoped>\n",
       "    .dataframe tbody tr th:only-of-type {\n",
       "        vertical-align: middle;\n",
       "    }\n",
       "\n",
       "    .dataframe tbody tr th {\n",
       "        vertical-align: top;\n",
       "    }\n",
       "\n",
       "    .dataframe thead th {\n",
       "        text-align: right;\n",
       "    }\n",
       "</style>\n",
       "<table border=\"1\" class=\"dataframe\">\n",
       "  <thead>\n",
       "    <tr style=\"text-align: right;\">\n",
       "      <th></th>\n",
       "      <th>PM2.5</th>\n",
       "      <th>PM10</th>\n",
       "      <th>NO</th>\n",
       "      <th>NO2</th>\n",
       "      <th>NOx</th>\n",
       "      <th>NH3</th>\n",
       "      <th>CO</th>\n",
       "      <th>SO2</th>\n",
       "      <th>O3</th>\n",
       "      <th>AQI</th>\n",
       "      <th>City</th>\n",
       "      <th>AQI_Bucket</th>\n",
       "    </tr>\n",
       "  </thead>\n",
       "  <tbody>\n",
       "    <tr>\n",
       "      <th>28</th>\n",
       "      <td>83.13</td>\n",
       "      <td>88.179286</td>\n",
       "      <td>6.93</td>\n",
       "      <td>28.71</td>\n",
       "      <td>33.72</td>\n",
       "      <td>23.848366</td>\n",
       "      <td>6.93</td>\n",
       "      <td>49.52</td>\n",
       "      <td>59.76</td>\n",
       "      <td>209.0</td>\n",
       "      <td>Ahmedabad</td>\n",
       "      <td>Poor</td>\n",
       "    </tr>\n",
       "    <tr>\n",
       "      <th>29</th>\n",
       "      <td>79.84</td>\n",
       "      <td>88.179286</td>\n",
       "      <td>13.85</td>\n",
       "      <td>28.68</td>\n",
       "      <td>41.08</td>\n",
       "      <td>23.848366</td>\n",
       "      <td>13.85</td>\n",
       "      <td>48.49</td>\n",
       "      <td>97.07</td>\n",
       "      <td>328.0</td>\n",
       "      <td>Ahmedabad</td>\n",
       "      <td>Very Poor</td>\n",
       "    </tr>\n",
       "    <tr>\n",
       "      <th>30</th>\n",
       "      <td>94.52</td>\n",
       "      <td>88.179286</td>\n",
       "      <td>24.39</td>\n",
       "      <td>32.66</td>\n",
       "      <td>52.61</td>\n",
       "      <td>23.848366</td>\n",
       "      <td>24.39</td>\n",
       "      <td>67.39</td>\n",
       "      <td>111.33</td>\n",
       "      <td>514.0</td>\n",
       "      <td>Ahmedabad</td>\n",
       "      <td>Severe</td>\n",
       "    </tr>\n",
       "    <tr>\n",
       "      <th>31</th>\n",
       "      <td>135.99</td>\n",
       "      <td>88.179286</td>\n",
       "      <td>43.48</td>\n",
       "      <td>42.08</td>\n",
       "      <td>84.57</td>\n",
       "      <td>23.848366</td>\n",
       "      <td>43.48</td>\n",
       "      <td>75.23</td>\n",
       "      <td>102.70</td>\n",
       "      <td>782.0</td>\n",
       "      <td>Ahmedabad</td>\n",
       "      <td>Severe</td>\n",
       "    </tr>\n",
       "    <tr>\n",
       "      <th>32</th>\n",
       "      <td>178.33</td>\n",
       "      <td>88.179286</td>\n",
       "      <td>54.56</td>\n",
       "      <td>35.31</td>\n",
       "      <td>72.80</td>\n",
       "      <td>23.848366</td>\n",
       "      <td>54.56</td>\n",
       "      <td>55.04</td>\n",
       "      <td>107.38</td>\n",
       "      <td>914.0</td>\n",
       "      <td>Ahmedabad</td>\n",
       "      <td>Severe</td>\n",
       "    </tr>\n",
       "    <tr>\n",
       "      <th>...</th>\n",
       "      <td>...</td>\n",
       "      <td>...</td>\n",
       "      <td>...</td>\n",
       "      <td>...</td>\n",
       "      <td>...</td>\n",
       "      <td>...</td>\n",
       "      <td>...</td>\n",
       "      <td>...</td>\n",
       "      <td>...</td>\n",
       "      <td>...</td>\n",
       "      <td>...</td>\n",
       "      <td>...</td>\n",
       "    </tr>\n",
       "    <tr>\n",
       "      <th>29526</th>\n",
       "      <td>15.02</td>\n",
       "      <td>50.940000</td>\n",
       "      <td>7.68</td>\n",
       "      <td>25.06</td>\n",
       "      <td>19.54</td>\n",
       "      <td>12.470000</td>\n",
       "      <td>0.47</td>\n",
       "      <td>8.55</td>\n",
       "      <td>23.30</td>\n",
       "      <td>41.0</td>\n",
       "      <td>Visakhapatnam</td>\n",
       "      <td>Good</td>\n",
       "    </tr>\n",
       "    <tr>\n",
       "      <th>29527</th>\n",
       "      <td>24.38</td>\n",
       "      <td>74.090000</td>\n",
       "      <td>3.42</td>\n",
       "      <td>26.06</td>\n",
       "      <td>16.53</td>\n",
       "      <td>11.990000</td>\n",
       "      <td>0.52</td>\n",
       "      <td>12.72</td>\n",
       "      <td>30.14</td>\n",
       "      <td>70.0</td>\n",
       "      <td>Visakhapatnam</td>\n",
       "      <td>Satisfactory</td>\n",
       "    </tr>\n",
       "    <tr>\n",
       "      <th>29528</th>\n",
       "      <td>22.91</td>\n",
       "      <td>65.730000</td>\n",
       "      <td>3.45</td>\n",
       "      <td>29.53</td>\n",
       "      <td>18.33</td>\n",
       "      <td>10.710000</td>\n",
       "      <td>0.48</td>\n",
       "      <td>8.42</td>\n",
       "      <td>30.96</td>\n",
       "      <td>68.0</td>\n",
       "      <td>Visakhapatnam</td>\n",
       "      <td>Satisfactory</td>\n",
       "    </tr>\n",
       "    <tr>\n",
       "      <th>29529</th>\n",
       "      <td>16.64</td>\n",
       "      <td>49.970000</td>\n",
       "      <td>4.05</td>\n",
       "      <td>29.26</td>\n",
       "      <td>18.80</td>\n",
       "      <td>10.030000</td>\n",
       "      <td>0.52</td>\n",
       "      <td>9.84</td>\n",
       "      <td>28.30</td>\n",
       "      <td>54.0</td>\n",
       "      <td>Visakhapatnam</td>\n",
       "      <td>Satisfactory</td>\n",
       "    </tr>\n",
       "    <tr>\n",
       "      <th>29530</th>\n",
       "      <td>15.00</td>\n",
       "      <td>66.000000</td>\n",
       "      <td>0.40</td>\n",
       "      <td>26.85</td>\n",
       "      <td>14.05</td>\n",
       "      <td>5.200000</td>\n",
       "      <td>0.59</td>\n",
       "      <td>2.10</td>\n",
       "      <td>17.05</td>\n",
       "      <td>50.0</td>\n",
       "      <td>Visakhapatnam</td>\n",
       "      <td>Good</td>\n",
       "    </tr>\n",
       "  </tbody>\n",
       "</table>\n",
       "<p>24850 rows × 12 columns</p>\n",
       "</div>"
      ],
      "text/plain": [
       "        PM2.5       PM10     NO    NO2    NOx        NH3     CO    SO2  \\\n",
       "28      83.13  88.179286   6.93  28.71  33.72  23.848366   6.93  49.52   \n",
       "29      79.84  88.179286  13.85  28.68  41.08  23.848366  13.85  48.49   \n",
       "30      94.52  88.179286  24.39  32.66  52.61  23.848366  24.39  67.39   \n",
       "31     135.99  88.179286  43.48  42.08  84.57  23.848366  43.48  75.23   \n",
       "32     178.33  88.179286  54.56  35.31  72.80  23.848366  54.56  55.04   \n",
       "...       ...        ...    ...    ...    ...        ...    ...    ...   \n",
       "29526   15.02  50.940000   7.68  25.06  19.54  12.470000   0.47   8.55   \n",
       "29527   24.38  74.090000   3.42  26.06  16.53  11.990000   0.52  12.72   \n",
       "29528   22.91  65.730000   3.45  29.53  18.33  10.710000   0.48   8.42   \n",
       "29529   16.64  49.970000   4.05  29.26  18.80  10.030000   0.52   9.84   \n",
       "29530   15.00  66.000000   0.40  26.85  14.05   5.200000   0.59   2.10   \n",
       "\n",
       "           O3    AQI           City    AQI_Bucket  \n",
       "28      59.76  209.0      Ahmedabad          Poor  \n",
       "29      97.07  328.0      Ahmedabad     Very Poor  \n",
       "30     111.33  514.0      Ahmedabad        Severe  \n",
       "31     102.70  782.0      Ahmedabad        Severe  \n",
       "32     107.38  914.0      Ahmedabad        Severe  \n",
       "...       ...    ...            ...           ...  \n",
       "29526   23.30   41.0  Visakhapatnam          Good  \n",
       "29527   30.14   70.0  Visakhapatnam  Satisfactory  \n",
       "29528   30.96   68.0  Visakhapatnam  Satisfactory  \n",
       "29529   28.30   54.0  Visakhapatnam  Satisfactory  \n",
       "29530   17.05   50.0  Visakhapatnam          Good  \n",
       "\n",
       "[24850 rows x 12 columns]"
      ]
     },
     "execution_count": 29,
     "metadata": {},
     "output_type": "execute_result"
    }
   ],
   "source": [
    "df"
   ]
  },
  {
   "cell_type": "code",
   "execution_count": null,
   "metadata": {},
   "outputs": [],
   "source": [
    "# obtaining the data of city wise mean AQI index and arranging it in descending order.\n",
    "aqi=df.groupby(\"City\").mean()[\"AQI\"].round().sort_values(ascending=False)\n",
    "# Plotting the horizontal plot of  top 10 cities against high AQI value,\n",
    "\n",
    "aqi.plot(figsize=(7,7),kind=\"barh\",title=\"AQI (Greater the index bad is the quality of AIR)\", xlabel=\"City\", ylabel=\"AQI\",grid=True)\n",
    "print(aqi)"
   ]
  },
  {
   "cell_type": "markdown",
   "metadata": {},
   "source": [
    "##### Grouping the dataset into cities"
   ]
  },
  {
   "cell_type": "code",
   "execution_count": 31,
   "metadata": {},
   "outputs": [],
   "source": [
    "# Getting the data of Cities with AQI mean values.\n",
    "AQIB=df.groupby(\"City\")[\"AQI\"].mean()"
   ]
  },
  {
   "cell_type": "markdown",
   "metadata": {},
   "source": [
    "##### As grouping the dataset into cities will make index as city column so we need to give the proper indexing"
   ]
  },
  {
   "cell_type": "code",
   "execution_count": 32,
   "metadata": {},
   "outputs": [
    {
     "data": {
      "text/html": [
       "<div>\n",
       "<style scoped>\n",
       "    .dataframe tbody tr th:only-of-type {\n",
       "        vertical-align: middle;\n",
       "    }\n",
       "\n",
       "    .dataframe tbody tr th {\n",
       "        vertical-align: top;\n",
       "    }\n",
       "\n",
       "    .dataframe thead th {\n",
       "        text-align: right;\n",
       "    }\n",
       "</style>\n",
       "<table border=\"1\" class=\"dataframe\">\n",
       "  <thead>\n",
       "    <tr style=\"text-align: right;\">\n",
       "      <th></th>\n",
       "      <th>City</th>\n",
       "      <th>AQI</th>\n",
       "    </tr>\n",
       "  </thead>\n",
       "  <tbody>\n",
       "    <tr>\n",
       "      <th>0</th>\n",
       "      <td>Ahmedabad</td>\n",
       "      <td>452.122939</td>\n",
       "    </tr>\n",
       "    <tr>\n",
       "      <th>1</th>\n",
       "      <td>Aizawl</td>\n",
       "      <td>34.765766</td>\n",
       "    </tr>\n",
       "    <tr>\n",
       "      <th>2</th>\n",
       "      <td>Amaravati</td>\n",
       "      <td>95.299643</td>\n",
       "    </tr>\n",
       "    <tr>\n",
       "      <th>3</th>\n",
       "      <td>Amritsar</td>\n",
       "      <td>119.920959</td>\n",
       "    </tr>\n",
       "    <tr>\n",
       "      <th>4</th>\n",
       "      <td>Bengaluru</td>\n",
       "      <td>94.318325</td>\n",
       "    </tr>\n",
       "    <tr>\n",
       "      <th>5</th>\n",
       "      <td>Bhopal</td>\n",
       "      <td>132.827338</td>\n",
       "    </tr>\n",
       "    <tr>\n",
       "      <th>6</th>\n",
       "      <td>Brajrajnagar</td>\n",
       "      <td>150.280505</td>\n",
       "    </tr>\n",
       "    <tr>\n",
       "      <th>7</th>\n",
       "      <td>Chandigarh</td>\n",
       "      <td>96.498328</td>\n",
       "    </tr>\n",
       "    <tr>\n",
       "      <th>8</th>\n",
       "      <td>Chennai</td>\n",
       "      <td>114.502654</td>\n",
       "    </tr>\n",
       "    <tr>\n",
       "      <th>9</th>\n",
       "      <td>Coimbatore</td>\n",
       "      <td>73.023256</td>\n",
       "    </tr>\n",
       "    <tr>\n",
       "      <th>10</th>\n",
       "      <td>Delhi</td>\n",
       "      <td>259.487744</td>\n",
       "    </tr>\n",
       "    <tr>\n",
       "      <th>11</th>\n",
       "      <td>Ernakulam</td>\n",
       "      <td>92.359477</td>\n",
       "    </tr>\n",
       "    <tr>\n",
       "      <th>12</th>\n",
       "      <td>Gurugram</td>\n",
       "      <td>225.123882</td>\n",
       "    </tr>\n",
       "    <tr>\n",
       "      <th>13</th>\n",
       "      <td>Guwahati</td>\n",
       "      <td>140.111111</td>\n",
       "    </tr>\n",
       "    <tr>\n",
       "      <th>14</th>\n",
       "      <td>Hyderabad</td>\n",
       "      <td>109.207447</td>\n",
       "    </tr>\n",
       "    <tr>\n",
       "      <th>15</th>\n",
       "      <td>Jaipur</td>\n",
       "      <td>133.679159</td>\n",
       "    </tr>\n",
       "    <tr>\n",
       "      <th>16</th>\n",
       "      <td>Jorapokhar</td>\n",
       "      <td>159.251621</td>\n",
       "    </tr>\n",
       "    <tr>\n",
       "      <th>17</th>\n",
       "      <td>Kochi</td>\n",
       "      <td>104.284810</td>\n",
       "    </tr>\n",
       "    <tr>\n",
       "      <th>18</th>\n",
       "      <td>Kolkata</td>\n",
       "      <td>140.566313</td>\n",
       "    </tr>\n",
       "    <tr>\n",
       "      <th>19</th>\n",
       "      <td>Lucknow</td>\n",
       "      <td>217.973059</td>\n",
       "    </tr>\n",
       "    <tr>\n",
       "      <th>20</th>\n",
       "      <td>Mumbai</td>\n",
       "      <td>105.352258</td>\n",
       "    </tr>\n",
       "    <tr>\n",
       "      <th>21</th>\n",
       "      <td>Patna</td>\n",
       "      <td>240.782042</td>\n",
       "    </tr>\n",
       "    <tr>\n",
       "      <th>22</th>\n",
       "      <td>Shillong</td>\n",
       "      <td>53.795122</td>\n",
       "    </tr>\n",
       "    <tr>\n",
       "      <th>23</th>\n",
       "      <td>Talcher</td>\n",
       "      <td>172.886819</td>\n",
       "    </tr>\n",
       "    <tr>\n",
       "      <th>24</th>\n",
       "      <td>Thiruvananthapuram</td>\n",
       "      <td>75.878327</td>\n",
       "    </tr>\n",
       "    <tr>\n",
       "      <th>25</th>\n",
       "      <td>Visakhapatnam</td>\n",
       "      <td>117.269855</td>\n",
       "    </tr>\n",
       "  </tbody>\n",
       "</table>\n",
       "</div>"
      ],
      "text/plain": [
       "                  City         AQI\n",
       "0            Ahmedabad  452.122939\n",
       "1               Aizawl   34.765766\n",
       "2            Amaravati   95.299643\n",
       "3             Amritsar  119.920959\n",
       "4            Bengaluru   94.318325\n",
       "5               Bhopal  132.827338\n",
       "6         Brajrajnagar  150.280505\n",
       "7           Chandigarh   96.498328\n",
       "8              Chennai  114.502654\n",
       "9           Coimbatore   73.023256\n",
       "10               Delhi  259.487744\n",
       "11           Ernakulam   92.359477\n",
       "12            Gurugram  225.123882\n",
       "13            Guwahati  140.111111\n",
       "14           Hyderabad  109.207447\n",
       "15              Jaipur  133.679159\n",
       "16          Jorapokhar  159.251621\n",
       "17               Kochi  104.284810\n",
       "18             Kolkata  140.566313\n",
       "19             Lucknow  217.973059\n",
       "20              Mumbai  105.352258\n",
       "21               Patna  240.782042\n",
       "22            Shillong   53.795122\n",
       "23             Talcher  172.886819\n",
       "24  Thiruvananthapuram   75.878327\n",
       "25       Visakhapatnam  117.269855"
      ]
     },
     "execution_count": 32,
     "metadata": {},
     "output_type": "execute_result"
    }
   ],
   "source": [
    "# Resetting the index values of dataset.\n",
    "AQIB=AQIB.reset_index()\n",
    "AQIB"
   ]
  },
  {
   "cell_type": "markdown",
   "metadata": {},
   "source": [
    "## AQI Category (Range)\n",
    "###### Good (0-50)\n",
    "###### Satisfactory (51-100)\n",
    "###### Moderate (101-200)\n",
    "###### Poor (201-300)\n",
    "###### Very poor (301-400)\n",
    "###### Severe (401-500)"
   ]
  },
  {
   "cell_type": "markdown",
   "metadata": {},
   "source": [
    "##### function to determine the AQI_Bucket values(Air-Quality) from AQI index values"
   ]
  },
  {
   "cell_type": "code",
   "execution_count": 33,
   "metadata": {},
   "outputs": [],
   "source": [
    "# Programming a function which will compare the values of AQI and gives its respective remark in next columns.\n",
    "def categorise(row):\n",
    "    if row['AQI'] > 0 and row['AQI'] <= 50:\n",
    "        return 'Good'\n",
    "    elif row['AQI'] > 50 and row['AQI'] <= 100:\n",
    "        return 'Satisfactory'\n",
    "    elif row['AQI'] > 100 and row['AQI'] <= 200:\n",
    "        return 'Moderate'\n",
    "    elif row['AQI'] > 200 and row['AQI'] <= 300:\n",
    "        return 'Poor'\n",
    "    elif row['AQI'] > 300 and row['AQI'] <= 400:\n",
    "        return 'Very Poor'\n",
    "    return 'Sever'"
   ]
  },
  {
   "cell_type": "markdown",
   "metadata": {},
   "source": [
    "##### Filling the empty values of Air_Bucket by  using the above function "
   ]
  },
  {
   "cell_type": "code",
   "execution_count": 34,
   "metadata": {},
   "outputs": [],
   "source": [
    "# Applying the values on AQIB Bucket.\n",
    "AQIB['AQI_Bucket'] = AQIB.apply(lambda row: categorise(row), axis=1)"
   ]
  },
  {
   "cell_type": "code",
   "execution_count": 35,
   "metadata": {},
   "outputs": [],
   "source": [
    "# Changing the index to City.\n",
    "AQIB.set_index(AQIB[\"City\"],inplace=True)"
   ]
  },
  {
   "cell_type": "code",
   "execution_count": 36,
   "metadata": {},
   "outputs": [
    {
     "data": {
      "text/html": [
       "<div>\n",
       "<style scoped>\n",
       "    .dataframe tbody tr th:only-of-type {\n",
       "        vertical-align: middle;\n",
       "    }\n",
       "\n",
       "    .dataframe tbody tr th {\n",
       "        vertical-align: top;\n",
       "    }\n",
       "\n",
       "    .dataframe thead th {\n",
       "        text-align: right;\n",
       "    }\n",
       "</style>\n",
       "<table border=\"1\" class=\"dataframe\">\n",
       "  <thead>\n",
       "    <tr style=\"text-align: right;\">\n",
       "      <th></th>\n",
       "      <th>AQI</th>\n",
       "      <th>AQI_Bucket</th>\n",
       "    </tr>\n",
       "    <tr>\n",
       "      <th>City</th>\n",
       "      <th></th>\n",
       "      <th></th>\n",
       "    </tr>\n",
       "  </thead>\n",
       "  <tbody>\n",
       "    <tr>\n",
       "      <th>Ahmedabad</th>\n",
       "      <td>452.122939</td>\n",
       "      <td>Sever</td>\n",
       "    </tr>\n",
       "    <tr>\n",
       "      <th>Aizawl</th>\n",
       "      <td>34.765766</td>\n",
       "      <td>Good</td>\n",
       "    </tr>\n",
       "    <tr>\n",
       "      <th>Amaravati</th>\n",
       "      <td>95.299643</td>\n",
       "      <td>Satisfactory</td>\n",
       "    </tr>\n",
       "    <tr>\n",
       "      <th>Amritsar</th>\n",
       "      <td>119.920959</td>\n",
       "      <td>Moderate</td>\n",
       "    </tr>\n",
       "    <tr>\n",
       "      <th>Bengaluru</th>\n",
       "      <td>94.318325</td>\n",
       "      <td>Satisfactory</td>\n",
       "    </tr>\n",
       "    <tr>\n",
       "      <th>Bhopal</th>\n",
       "      <td>132.827338</td>\n",
       "      <td>Moderate</td>\n",
       "    </tr>\n",
       "    <tr>\n",
       "      <th>Brajrajnagar</th>\n",
       "      <td>150.280505</td>\n",
       "      <td>Moderate</td>\n",
       "    </tr>\n",
       "    <tr>\n",
       "      <th>Chandigarh</th>\n",
       "      <td>96.498328</td>\n",
       "      <td>Satisfactory</td>\n",
       "    </tr>\n",
       "    <tr>\n",
       "      <th>Chennai</th>\n",
       "      <td>114.502654</td>\n",
       "      <td>Moderate</td>\n",
       "    </tr>\n",
       "    <tr>\n",
       "      <th>Coimbatore</th>\n",
       "      <td>73.023256</td>\n",
       "      <td>Satisfactory</td>\n",
       "    </tr>\n",
       "    <tr>\n",
       "      <th>Delhi</th>\n",
       "      <td>259.487744</td>\n",
       "      <td>Poor</td>\n",
       "    </tr>\n",
       "    <tr>\n",
       "      <th>Ernakulam</th>\n",
       "      <td>92.359477</td>\n",
       "      <td>Satisfactory</td>\n",
       "    </tr>\n",
       "    <tr>\n",
       "      <th>Gurugram</th>\n",
       "      <td>225.123882</td>\n",
       "      <td>Poor</td>\n",
       "    </tr>\n",
       "    <tr>\n",
       "      <th>Guwahati</th>\n",
       "      <td>140.111111</td>\n",
       "      <td>Moderate</td>\n",
       "    </tr>\n",
       "    <tr>\n",
       "      <th>Hyderabad</th>\n",
       "      <td>109.207447</td>\n",
       "      <td>Moderate</td>\n",
       "    </tr>\n",
       "    <tr>\n",
       "      <th>Jaipur</th>\n",
       "      <td>133.679159</td>\n",
       "      <td>Moderate</td>\n",
       "    </tr>\n",
       "    <tr>\n",
       "      <th>Jorapokhar</th>\n",
       "      <td>159.251621</td>\n",
       "      <td>Moderate</td>\n",
       "    </tr>\n",
       "    <tr>\n",
       "      <th>Kochi</th>\n",
       "      <td>104.284810</td>\n",
       "      <td>Moderate</td>\n",
       "    </tr>\n",
       "    <tr>\n",
       "      <th>Kolkata</th>\n",
       "      <td>140.566313</td>\n",
       "      <td>Moderate</td>\n",
       "    </tr>\n",
       "    <tr>\n",
       "      <th>Lucknow</th>\n",
       "      <td>217.973059</td>\n",
       "      <td>Poor</td>\n",
       "    </tr>\n",
       "    <tr>\n",
       "      <th>Mumbai</th>\n",
       "      <td>105.352258</td>\n",
       "      <td>Moderate</td>\n",
       "    </tr>\n",
       "    <tr>\n",
       "      <th>Patna</th>\n",
       "      <td>240.782042</td>\n",
       "      <td>Poor</td>\n",
       "    </tr>\n",
       "    <tr>\n",
       "      <th>Shillong</th>\n",
       "      <td>53.795122</td>\n",
       "      <td>Satisfactory</td>\n",
       "    </tr>\n",
       "    <tr>\n",
       "      <th>Talcher</th>\n",
       "      <td>172.886819</td>\n",
       "      <td>Moderate</td>\n",
       "    </tr>\n",
       "    <tr>\n",
       "      <th>Thiruvananthapuram</th>\n",
       "      <td>75.878327</td>\n",
       "      <td>Satisfactory</td>\n",
       "    </tr>\n",
       "    <tr>\n",
       "      <th>Visakhapatnam</th>\n",
       "      <td>117.269855</td>\n",
       "      <td>Moderate</td>\n",
       "    </tr>\n",
       "  </tbody>\n",
       "</table>\n",
       "</div>"
      ],
      "text/plain": [
       "                           AQI    AQI_Bucket\n",
       "City                                        \n",
       "Ahmedabad           452.122939         Sever\n",
       "Aizawl               34.765766          Good\n",
       "Amaravati            95.299643  Satisfactory\n",
       "Amritsar            119.920959      Moderate\n",
       "Bengaluru            94.318325  Satisfactory\n",
       "Bhopal              132.827338      Moderate\n",
       "Brajrajnagar        150.280505      Moderate\n",
       "Chandigarh           96.498328  Satisfactory\n",
       "Chennai             114.502654      Moderate\n",
       "Coimbatore           73.023256  Satisfactory\n",
       "Delhi               259.487744          Poor\n",
       "Ernakulam            92.359477  Satisfactory\n",
       "Gurugram            225.123882          Poor\n",
       "Guwahati            140.111111      Moderate\n",
       "Hyderabad           109.207447      Moderate\n",
       "Jaipur              133.679159      Moderate\n",
       "Jorapokhar          159.251621      Moderate\n",
       "Kochi               104.284810      Moderate\n",
       "Kolkata             140.566313      Moderate\n",
       "Lucknow             217.973059          Poor\n",
       "Mumbai              105.352258      Moderate\n",
       "Patna               240.782042          Poor\n",
       "Shillong             53.795122  Satisfactory\n",
       "Talcher             172.886819      Moderate\n",
       "Thiruvananthapuram   75.878327  Satisfactory\n",
       "Visakhapatnam       117.269855      Moderate"
      ]
     },
     "execution_count": 36,
     "metadata": {},
     "output_type": "execute_result"
    }
   ],
   "source": [
    "# Dropping the extra City Column.\n",
    "AQIB.drop(\"City\",axis=1)"
   ]
  },
  {
   "cell_type": "code",
   "execution_count": 37,
   "metadata": {},
   "outputs": [
    {
     "data": {
      "text/plain": [
       "Moderate        13\n",
       "Satisfactory     7\n",
       "Poor             4\n",
       "Sever            1\n",
       "Good             1\n",
       "Name: AQI_Bucket, dtype: int64"
      ]
     },
     "execution_count": 37,
     "metadata": {},
     "output_type": "execute_result"
    }
   ],
   "source": [
    "# Getting the value counts of AQI Bucket.\n",
    "AQIB1=AQIB[\"AQI_Bucket\"].value_counts()\n",
    "AQIB1"
   ]
  },
  {
   "cell_type": "markdown",
   "metadata": {},
   "source": [
    "##### PLotting the graph of count of cities grouping by Air-Quality"
   ]
  },
  {
   "cell_type": "code",
   "execution_count": 38,
   "metadata": {},
   "outputs": [
    {
     "name": "stdout",
     "output_type": "stream",
     "text": [
      "Moderate        13\n",
      "Satisfactory     7\n",
      "Poor             4\n",
      "Sever            1\n",
      "Good             1\n",
      "Name: AQI_Bucket, dtype: int64\n"
     ]
    },
    {
     "data": {
      "image/png": "[encoded data removed]",
      "text/plain": [
       "<Figure size 300x700 with 1 Axes>"
      ]
     },
     "metadata": {},
     "output_type": "display_data"
    }
   ],
   "source": [
    "# Plotting the bar plot of  AQI Bucket with repeating count from data.,\n",
    "AQIB1.plot(figsize=(3,7),kind=\"bar\",title=\"AQI WISE SAFE CITY COUNT\", xlabel=\"AQI BUCKET\", ylabel=\"NUMBER OF CITIES\",grid=True)\n",
    "print(AQIB1)\n"
   ]
  },
  {
   "cell_type": "markdown",
   "metadata": {},
   "source": [
    "##### Here I divide the data set into two part namely Vehicular Pollution content (PM2.5, PM10, NO2, NH3, CO,) and Industrial Pollution content (CO, SO2, O3) and find how these contents correlated with AQI (air quality index)"
   ]
  },
  {
   "cell_type": "code",
   "execution_count": 39,
   "metadata": {},
   "outputs": [
    {
     "name": "stdout",
     "output_type": "stream",
     "text": [
      "<class 'pandas.core.frame.DataFrame'>\n",
      "Int64Index: 24850 entries, 28 to 29530\n",
      "Data columns (total 5 columns):\n",
      " #   Column                        Non-Null Count  Dtype  \n",
      "---  ------                        --------------  -----  \n",
      " 0   AQI                           24850 non-null  float64\n",
      " 1   City                          24850 non-null  object \n",
      " 2   AQI_Bucket                    24850 non-null  object \n",
      " 3   Vehicular Pollution content   24850 non-null  float64\n",
      " 4   Industrial Pollution content  24850 non-null  float64\n",
      "dtypes: float64(3), object(2)\n",
      "memory usage: 1.1+ MB\n"
     ]
    }
   ],
   "source": [
    "df = data.copy()\n",
    "df['Vehicular Pollution content'] = df['PM2.5']+df['PM10']+df['NO']+df['NO2']+df['NOx']+df['NH3']+df['CO']\n",
    "df['Industrial Pollution content'] = df['SO2']+df['O3']\n",
    "df = df.drop(['PM2.5', 'PM10', 'NO', 'NO2', 'NOx', 'NH3', 'CO', 'SO2',\n",
    "       'O3'],axis=1)\n",
    "df.info()"
   ]
  },
  {
   "cell_type": "markdown",
   "metadata": {},
   "source": [
    "## Encoding\n"
   ]
  },
  {
   "cell_type": "markdown",
   "metadata": {},
   "source": [
    "#### Encoding the values of string columns so we can use it to train the model "
   ]
  },
  {
   "cell_type": "code",
   "execution_count": 40,
   "metadata": {},
   "outputs": [
    {
     "name": "stdout",
     "output_type": "stream",
     "text": [
      "categorical_attributes ['City', 'AQI_Bucket']\n",
      "<class 'pandas.core.frame.DataFrame'>\n",
      "Int64Index: 24850 entries, 28 to 29530\n",
      "Data columns (total 12 columns):\n",
      " #   Column      Non-Null Count  Dtype  \n",
      "---  ------      --------------  -----  \n",
      " 0   PM2.5       24850 non-null  float64\n",
      " 1   PM10        24850 non-null  float64\n",
      " 2   NO          24850 non-null  float64\n",
      " 3   NO2         24850 non-null  float64\n",
      " 4   NOx         24850 non-null  float64\n",
      " 5   NH3         24850 non-null  float64\n",
      " 6   CO          24850 non-null  float64\n",
      " 7   SO2         24850 non-null  float64\n",
      " 8   O3          24850 non-null  float64\n",
      " 9   AQI         24850 non-null  float64\n",
      " 10  City        24850 non-null  int32  \n",
      " 11  AQI_Bucket  24850 non-null  int32  \n",
      "dtypes: float64(10), int32(2)\n",
      "memory usage: 2.3 MB\n"
     ]
    }
   ],
   "source": [
    "from sklearn.preprocessing import StandardScaler, LabelEncoder\n",
    "df1=data.copy()\n",
    "categorical_attributes = list(df1.select_dtypes(include=['object']).columns)\n",
    "print(\"categorical_attributes\",categorical_attributes)\n",
    "le=LabelEncoder()\n",
    "df1['City']=le.fit_transform(df1['City'].astype(str))\n",
    "df1['AQI_Bucket']=le.fit_transform(df1['AQI_Bucket'].astype(str))\n",
    "df1.info()"
   ]
  },
  {
   "cell_type": "markdown",
   "metadata": {},
   "source": [
    "##### Splitting the test and train dataset"
   ]
  },
  {
   "cell_type": "code",
   "execution_count": 41,
   "metadata": {},
   "outputs": [],
   "source": [
    "from sklearn.model_selection import train_test_split\n",
    "y = df1[\"AQI_Bucket\"]\n",
    "x = df1[['City', 'PM2.5', 'PM10', 'NO', 'NO2', 'NOx', 'NH3', 'CO', 'SO2',\n",
    "       'O3']]\n",
    "X_train, X_test, y_train, y_test = train_test_split(x, y, test_size = 0.3, random_state = 0)"
   ]
  },
  {
   "cell_type": "code",
   "execution_count": 42,
   "metadata": {},
   "outputs": [
    {
     "name": "stdout",
     "output_type": "stream",
     "text": [
      "Classes and number of values in trainset Counter({1: 6144, 3: 5754, 2: 1981, 5: 1641, 4: 955, 0: 920})\n"
     ]
    }
   ],
   "source": [
    "print('Classes and number of values in trainset',Counter(y_train))"
   ]
  },
  {
   "cell_type": "markdown",
   "metadata": {},
   "source": [
    "### Data Imbalance:\n",
    "Here we observe that target label is not splitted eqaully. This will cause data imbalance problem. In order to overcome this problem we use the technique called SMOTE(Synthetic Minority Oversampling Technique). This approach solve this problem by oversample the examples in the minority class."
   ]
  },
  {
   "cell_type": "code",
   "execution_count": 43,
   "metadata": {},
   "outputs": [
    {
     "name": "stdout",
     "output_type": "stream",
     "text": [
      "Classes and number of values in trainset after SMOTE: Counter({3: 6144, 0: 6144, 2: 6144, 1: 6144, 5: 6144, 4: 6144})\n"
     ]
    }
   ],
   "source": [
    "from imblearn.over_sampling import SMOTE\n",
    "oversample = SMOTE()\n",
    "x_train,y_train = oversample.fit_resample(X_train,y_train)\n",
    "print('Classes and number of values in trainset after SMOTE:',Counter(y_train))"
   ]
  },
  {
   "cell_type": "markdown",
   "metadata": {},
   "source": [
    "## MODEL TRAINING"
   ]
  },
  {
   "cell_type": "markdown",
   "metadata": {},
   "source": [
    "##### using ShuffleSplit and cross_val_score to get the score of the defined model"
   ]
  },
  {
   "cell_type": "code",
   "execution_count": 44,
   "metadata": {},
   "outputs": [
    {
     "data": {
      "text/plain": [
       "array([0.44322098, 0.43314788, 0.44470954, 0.43903673, 0.43978475])"
      ]
     },
     "execution_count": 44,
     "metadata": {},
     "output_type": "execute_result"
    }
   ],
   "source": [
    "from sklearn.model_selection import ShuffleSplit,cross_val_score\n",
    "cv=ShuffleSplit(n_splits=5,test_size=0.2)\n",
    "cross_val_score(LinearRegression(),x_train,y_train,cv=cv)"
   ]
  },
  {
   "cell_type": "markdown",
   "metadata": {},
   "source": [
    "##### defining the various models with the  different hyperparameter to get the  best  score of each model with suitable parameters"
   ]
  },
  {
   "cell_type": "code",
   "execution_count": 45,
   "metadata": {},
   "outputs": [],
   "source": [
    "def find_best_model_gridsearchcv(x, y):\n",
    "    algos = {\n",
    "    'LinearRegression': {\n",
    "        'model': LinearRegression(),\n",
    "        'parameter': {\n",
    "            # 'normalize': ['True', 'False']\n",
    "        }\n",
    "    },\n",
    "    'LogisticRegression': {\n",
    "        'model': LogisticRegression(),\n",
    "        'parameter': {\n",
    "            'penalty': ['l1', 'l2'],\n",
    "            'C': [0.1, 1, 10]\n",
    "        }\n",
    "    },\n",
    "    'Lasso': {\n",
    "        'model': Lasso(),\n",
    "        'parameter': {\n",
    "            'alpha': [1, 2],\n",
    "            'selection': ['random', 'cyclic']\n",
    "        }\n",
    "    },\n",
    "    'DecisionTreeRegressor': {\n",
    "        'model': DecisionTreeRegressor(),\n",
    "        'parameter': {\n",
    "            'criterion': ['squared_error', 'friedman_mse', 'poisson'],\n",
    "            'splitter': ['best', 'random']\n",
    "        }\n",
    "    },\n",
    "    'RandomForestRegressor': {\n",
    "        'model': RandomForestRegressor(),\n",
    "        'parameter': {\n",
    "            'n_estimators': [100, 200],\n",
    "            'max_depth': [5],\n",
    "            'min_samples_split': [2, 5]\n",
    "        }\n",
    "    },\n",
    "    'RandomForestClassifier': {\n",
    "        'model': RandomForestClassifier(),\n",
    "        'parameter': {\n",
    "            'n_estimators': [100, 200],\n",
    "            'max_depth': [5],\n",
    "            'min_samples_split': [2, 5]\n",
    "        }\n",
    "    },\n",
    "    'GradientBoostingRegressor': {\n",
    "        'model': GradientBoostingRegressor(),\n",
    "        'parameter': {\n",
    "            'n_estimators': [100, 200],\n",
    "            'learning_rate': [0.1, 0.05],\n",
    "            'max_depth': [3, 5]\n",
    "        }\n",
    "    },\n",
    "    'XGBC': {\n",
    "        'model': XGBClassifier(),\n",
    "        'parameter': {\n",
    "            'n_estimators': [100, 200],\n",
    "            'learning_rate': [0.1, 0.05],\n",
    "            'max_depth': [3, 5]\n",
    "        }\n",
    "    },\n",
    "    # 'SVC': {\n",
    "    #     'model': SVC(),\n",
    "    #     'parameter': {\n",
    "    #         'C': [0.1, 1, 10],\n",
    "    #         'kernel': ['linear', 'rbf']\n",
    "    #     }\n",
    "    # },\n",
    "    # 'SVR': {\n",
    "    #     'model': SVR(),\n",
    "    #     'parameter': {\n",
    "    #         'C': [0.1, 1, 10],\n",
    "    #         'kernel': ['linear', 'rbf']\n",
    "    #     }\n",
    "    # },\n",
    "    'KNN': {\n",
    "        'model': KNeighborsRegressor(),\n",
    "        'parameter': {\n",
    "            'n_neighbors': [3, 5, 7],\n",
    "            'weights': ['uniform', 'distance']\n",
    "        }\n",
    "    },\n",
    "    'XGBR': {\n",
    "        'model': XGBRegressor(),\n",
    "        'parameter': {\n",
    "            'n_estimators': [100, 200],\n",
    "            'learning_rate': [0.1, 0.05],\n",
    "            'max_depth': [3, 5]\n",
    "        }\n",
    "    }\n",
    "    }\n",
    "\n",
    "\n",
    "    score = []\n",
    "    cv = ShuffleSplit(n_splits=5, test_size=0.2, random_state=False)\n",
    "\n",
    "    for model_name, parameter in algos.items():\n",
    "        clf = GridSearchCV(parameter['model'], parameter['parameter'], cv=cv, return_train_score=False)\n",
    "        clf.fit(x, y)\n",
    "        score.append({\n",
    "            'model': model_name,\n",
    "            'score': clf.best_score_,\n",
    "            'parameter': clf.best_params_\n",
    "        })\n",
    "\n",
    "    return pd.DataFrame(score, columns=['model', 'score', 'parameter'])\n"
   ]
  },
  {
   "cell_type": "markdown",
   "metadata": {},
   "source": [
    "##### Function to plot the graph to compare the score of different models"
   ]
  },
  {
   "cell_type": "code",
   "execution_count": 46,
   "metadata": {},
   "outputs": [],
   "source": [
    "def plot_model_scores(scores_df):\n",
    "    plt.figure(figsize=(10, 6))\n",
    "    plt.bar(scores_df['model'], scores_df['score'], color='skyblue')\n",
    "    plt.xlabel('Model')\n",
    "    plt.ylabel('Score')\n",
    "    plt.title('Model Scores')\n",
    "    plt.xticks(rotation=90)\n",
    "    plt.grid(axis='y')\n",
    "    plt.show()"
   ]
  },
  {
   "cell_type": "code",
   "execution_count": null,
   "metadata": {},
   "outputs": [],
   "source": [
    "scores_df = find_best_model_gridsearchcv(x_train,y_train)\n",
    "scores_df\n"
   ]
  },
  {
   "cell_type": "code",
   "execution_count": 48,
   "metadata": {},
   "outputs": [
    {
     "data": {
      "image/png": "[encoded data removed]",
      "text/plain": [
       "<Figure size 1000x600 with 1 Axes>"
      ]
     },
     "metadata": {},
     "output_type": "display_data"
    }
   ],
   "source": [
    "plot_model_scores(scores_df)"
   ]
  },
  {
   "cell_type": "markdown",
   "metadata": {},
   "source": [
    "# Conclusion related to the above results.\n",
    "\n",
    "\n",
    "\n",
    "1.   Delhi is the most polluted city in terms of vehicular pollution contents.\n",
    "2.   Ahmedabad is the most polluted city in terms of industrial pollution content.\n",
    "3.  City with High level values of AQI - Ahmedabad\n",
    "4.   PM 2.5 count per day (highest value) - Delhi"
   ]
  },
  {
   "cell_type": "markdown",
   "metadata": {},
   "source": []
  }
 ],
 "metadata": {
  "kernelspec": {
   "display_name": "Python 3",
   "language": "python",
   "name": "python3"
  },
  "language_info": {
   "codemirror_mode": {
    "name": "ipython",
    "version": 3
   },
   "file_extension": ".py",
   "mimetype": "text/x-python",
   "name": "python",
   "nbconvert_exporter": "python",
   "pygments_lexer": "ipython3",
   "version": "3.11.1"
  },
  "orig_nbformat": 4
 },
 "nbformat": 4,
 "nbformat_minor": 2
}
